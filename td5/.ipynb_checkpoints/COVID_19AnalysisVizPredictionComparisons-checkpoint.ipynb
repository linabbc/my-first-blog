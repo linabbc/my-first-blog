{
 "cells": [
  {
   "cell_type": "markdown",
   "metadata": {
    "colab_type": "text",
    "id": "Js5h1Dk9sFxm"
   },
   "source": [
    "# Corona Virus"
   ]
  },
  {
   "cell_type": "markdown",
   "metadata": {
    "colab_type": "text",
    "id": "AYC4ALF9sFxr"
   },
   "source": [
    "* Coronaviruses are **zoonotic** viruses (means transmitted between animals and people).  \n",
    "* Symptoms include from fever, cough, respiratory symptoms, and breathing difficulties. \n",
    "* In severe cases, it can cause pneumonia, severe acute respiratory syndrome (SARS), kidney failure and even death.\n",
    "\n",
    "* A **novel coronavirus (nCoV)** is a new strain that has not been previously identified in humans."
   ]
  },
  {
   "cell_type": "markdown",
   "metadata": {
    "colab_type": "text",
    "id": "tHjSmw0MsFxv"
   },
   "source": [
    "# COVID-19"
   ]
  },
  {
   "cell_type": "markdown",
   "metadata": {
    "colab_type": "text",
    "id": "u-alA6F0sFxy"
   },
   "source": [
    "* Corona Virus Disease 2019\n",
    "* Caused by a **SARS-COV-2** corona virus.  \n",
    "* First identified in **Wuhan, Hubei, China**.  \n",
    "* Earliest reported symptoms occurred on **1 December 2019**. \n",
    "* First cases were linked to contact with the Huanan Seafood Wholesale Market, which sold live animals. \n",
    "* On 30 January the WHO declared the outbreak to be a Public Health Emergency of International Concern "
   ]
  },
  {
   "cell_type": "markdown",
   "metadata": {
    "colab_type": "text",
    "id": "vxXDESCvsFx1"
   },
   "source": [
    "# Libraries"
   ]
  },
  {
   "cell_type": "markdown",
   "metadata": {
    "colab_type": "text",
    "id": "B3f3qvaesFx3"
   },
   "source": [
    "### Install"
   ]
  },
  {
   "cell_type": "code",
   "execution_count": 25,
   "metadata": {
    "_kg_hide-input": true,
    "_kg_hide-output": true,
    "colab": {},
    "colab_type": "code",
    "id": "gnGOlgxIsFx5"
   },
   "outputs": [],
   "source": [
    "# install calmap pour colab\n",
    "#! pip install calmap"
   ]
  },
  {
   "cell_type": "code",
   "execution_count": 26,
   "metadata": {
    "colab": {},
    "colab_type": "code",
    "id": "15Y2RKN3ye71"
   },
   "outputs": [],
   "source": [
    "#mettre à jour plotly pour colab\n",
    "#!pip install plotly==4.5.2"
   ]
  },
  {
   "cell_type": "code",
   "execution_count": null,
   "metadata": {
    "colab": {},
    "colab_type": "code",
    "id": "BCiF_YSvsxSW"
   },
   "outputs": [],
   "source": []
  },
  {
   "cell_type": "markdown",
   "metadata": {
    "colab_type": "text",
    "id": "8Cauilp7sFyF"
   },
   "source": [
    "### Import"
   ]
  },
  {
   "cell_type": "code",
   "execution_count": 27,
   "metadata": {
    "_cell_guid": "b1076dfc-b9ad-4769-8c92-a6c4dae69d19",
    "_kg_hide-input": true,
    "_kg_hide-output": true,
    "_uuid": "8f2839f25d086af736a60e9eeb907d3b93b6e0e5",
    "colab": {},
    "colab_type": "code",
    "id": "wZiQIOMysFyH"
   },
   "outputs": [
    {
     "ename": "ModuleNotFoundError",
     "evalue": "No module named 'folium'",
     "output_type": "error",
     "traceback": [
      "\u001b[1;31m---------------------------------------------------------------------------\u001b[0m",
      "\u001b[1;31mModuleNotFoundError\u001b[0m                       Traceback (most recent call last)",
      "\u001b[1;32m<ipython-input-27-0e595dc90c15>\u001b[0m in \u001b[0;36m<module>\u001b[1;34m\u001b[0m\n\u001b[0;32m     15\u001b[0m \u001b[1;32mimport\u001b[0m \u001b[0mplotly\u001b[0m\u001b[1;33m.\u001b[0m\u001b[0mfigure_factory\u001b[0m \u001b[1;32mas\u001b[0m \u001b[0mff\u001b[0m\u001b[1;33m\u001b[0m\u001b[1;33m\u001b[0m\u001b[0m\n\u001b[0;32m     16\u001b[0m \u001b[1;32mimport\u001b[0m \u001b[0mcalmap\u001b[0m\u001b[1;33m\u001b[0m\u001b[1;33m\u001b[0m\u001b[0m\n\u001b[1;32m---> 17\u001b[1;33m \u001b[1;32mimport\u001b[0m \u001b[0mfolium\u001b[0m\u001b[1;33m\u001b[0m\u001b[1;33m\u001b[0m\u001b[0m\n\u001b[0m\u001b[0;32m     18\u001b[0m \u001b[1;33m\u001b[0m\u001b[0m\n\u001b[0;32m     19\u001b[0m \u001b[1;31m# color pallette\u001b[0m\u001b[1;33m\u001b[0m\u001b[1;33m\u001b[0m\u001b[1;33m\u001b[0m\u001b[0m\n",
      "\u001b[1;31mModuleNotFoundError\u001b[0m: No module named 'folium'"
     ]
    }
   ],
   "source": [
    "# essential libraries\n",
    "import json\n",
    "import random\n",
    "from urllib.request import urlopen\n",
    "\n",
    "# storing and anaysis\n",
    "import numpy as np\n",
    "import pandas as pd\n",
    "\n",
    "# visualization\n",
    "import matplotlib.pyplot as plt\n",
    "import seaborn as sns\n",
    "import plotly.express as px\n",
    "import plotly.graph_objs as go\n",
    "import plotly.figure_factory as ff\n",
    "import calmap\n",
    "import folium\n",
    "\n",
    "# color pallette\n",
    "cnf = '#393e46' # confirmed - grey\n",
    "dth = '#ff2e63' # death - red\n",
    "rec = '#21bf73' # recovered - cyan\n",
    "act = '#fe9801' # active case - yellow\n",
    "\n",
    "# converter\n",
    "from pandas.plotting import register_matplotlib_converters\n",
    "register_matplotlib_converters()   \n",
    "\n",
    "# hide warnings\n",
    "import warnings\n",
    "warnings.filterwarnings('ignore')"
   ]
  },
  {
   "cell_type": "markdown",
   "metadata": {
    "colab_type": "text",
    "id": "9xauePQ0sFyu"
   },
   "source": [
    "# Dataset"
   ]
  },
  {
   "cell_type": "code",
   "execution_count": 28,
   "metadata": {
    "_kg_hide-input": true,
    "colab": {},
    "colab_type": "code",
    "id": "rLQWqNQjsFy5"
   },
   "outputs": [
    {
     "data": {
      "text/html": [
       "<div>\n",
       "<style scoped>\n",
       "    .dataframe tbody tr th:only-of-type {\n",
       "        vertical-align: middle;\n",
       "    }\n",
       "\n",
       "    .dataframe tbody tr th {\n",
       "        vertical-align: top;\n",
       "    }\n",
       "\n",
       "    .dataframe thead th {\n",
       "        text-align: right;\n",
       "    }\n",
       "</style>\n",
       "<table border=\"1\" class=\"dataframe\">\n",
       "  <thead>\n",
       "    <tr style=\"text-align: right;\">\n",
       "      <th></th>\n",
       "      <th>Province/State</th>\n",
       "      <th>Country/Region</th>\n",
       "      <th>Lat</th>\n",
       "      <th>Long</th>\n",
       "      <th>Date</th>\n",
       "      <th>Confirmed</th>\n",
       "      <th>Deaths</th>\n",
       "      <th>Recovered</th>\n",
       "    </tr>\n",
       "  </thead>\n",
       "  <tbody>\n",
       "    <tr>\n",
       "      <td>0</td>\n",
       "      <td>NaN</td>\n",
       "      <td>Thailand</td>\n",
       "      <td>15.0000</td>\n",
       "      <td>101.0000</td>\n",
       "      <td>2020-01-22</td>\n",
       "      <td>2.0</td>\n",
       "      <td>0.0</td>\n",
       "      <td>0.0</td>\n",
       "    </tr>\n",
       "    <tr>\n",
       "      <td>1</td>\n",
       "      <td>NaN</td>\n",
       "      <td>Japan</td>\n",
       "      <td>36.0000</td>\n",
       "      <td>138.0000</td>\n",
       "      <td>2020-01-22</td>\n",
       "      <td>2.0</td>\n",
       "      <td>0.0</td>\n",
       "      <td>0.0</td>\n",
       "    </tr>\n",
       "    <tr>\n",
       "      <td>2</td>\n",
       "      <td>NaN</td>\n",
       "      <td>Singapore</td>\n",
       "      <td>1.2833</td>\n",
       "      <td>103.8333</td>\n",
       "      <td>2020-01-22</td>\n",
       "      <td>0.0</td>\n",
       "      <td>0.0</td>\n",
       "      <td>0.0</td>\n",
       "    </tr>\n",
       "    <tr>\n",
       "      <td>3</td>\n",
       "      <td>NaN</td>\n",
       "      <td>Nepal</td>\n",
       "      <td>28.1667</td>\n",
       "      <td>84.2500</td>\n",
       "      <td>2020-01-22</td>\n",
       "      <td>0.0</td>\n",
       "      <td>0.0</td>\n",
       "      <td>0.0</td>\n",
       "    </tr>\n",
       "    <tr>\n",
       "      <td>4</td>\n",
       "      <td>NaN</td>\n",
       "      <td>Malaysia</td>\n",
       "      <td>2.5000</td>\n",
       "      <td>112.5000</td>\n",
       "      <td>2020-01-22</td>\n",
       "      <td>0.0</td>\n",
       "      <td>0.0</td>\n",
       "      <td>0.0</td>\n",
       "    </tr>\n",
       "  </tbody>\n",
       "</table>\n",
       "</div>"
      ],
      "text/plain": [
       "  Province/State Country/Region      Lat      Long       Date  Confirmed  \\\n",
       "0            NaN       Thailand  15.0000  101.0000 2020-01-22        2.0   \n",
       "1            NaN          Japan  36.0000  138.0000 2020-01-22        2.0   \n",
       "2            NaN      Singapore   1.2833  103.8333 2020-01-22        0.0   \n",
       "3            NaN          Nepal  28.1667   84.2500 2020-01-22        0.0   \n",
       "4            NaN       Malaysia   2.5000  112.5000 2020-01-22        0.0   \n",
       "\n",
       "   Deaths  Recovered  \n",
       "0     0.0        0.0  \n",
       "1     0.0        0.0  \n",
       "2     0.0        0.0  \n",
       "3     0.0        0.0  \n",
       "4     0.0        0.0  "
      ]
     },
     "execution_count": 28,
     "metadata": {},
     "output_type": "execute_result"
    }
   ],
   "source": [
    "# importing datasets\n",
    "full_table = pd.read_csv('http://chendeb.free.fr/covid_19_clean_complete.csv', \n",
    "                         parse_dates=['Date'])\n",
    "full_table.head()"
   ]
  },
  {
   "cell_type": "code",
   "execution_count": 29,
   "metadata": {
    "_kg_hide-input": true,
    "colab": {},
    "colab_type": "code",
    "id": "j9QzP6xYsFzB"
   },
   "outputs": [],
   "source": [
    "# dataframe info\n",
    "# full_table.info()"
   ]
  },
  {
   "cell_type": "code",
   "execution_count": 30,
   "metadata": {
    "_kg_hide-input": true,
    "colab": {},
    "colab_type": "code",
    "id": "UPR3_ArKsFzO"
   },
   "outputs": [],
   "source": [
    "# checking for missing value\n",
    "# full_table.isna().sum()"
   ]
  },
  {
   "cell_type": "markdown",
   "metadata": {
    "colab_type": "text",
    "id": "cdv3wCfRsFzV"
   },
   "source": [
    "# Preprocessing"
   ]
  },
  {
   "cell_type": "markdown",
   "metadata": {
    "colab_type": "text",
    "id": "KGgdrhvfsFzX"
   },
   "source": [
    "### Cleaning Data"
   ]
  },
  {
   "cell_type": "code",
   "execution_count": null,
   "metadata": {
    "_kg_hide-input": true,
    "_kg_hide-output": true,
    "colab": {},
    "colab_type": "code",
    "id": "okH1G_vrsFzZ"
   },
   "outputs": [],
   "source": [
    "# cases \n",
    "cases = ['Confirmed', 'Deaths', 'Recovered', 'Active']\n",
    "\n",
    "# Active Case = confirmed - deaths - recovered\n",
    "full_table['Active'] = full_table['Confirmed'] - full_table['Deaths'] - full_table['Recovered']\n",
    "\n",
    "# replacing Mainland china with just China\n",
    "full_table['Country/Region'] = full_table['Country/Region'].replace('Mainland China', 'China')\n",
    "\n",
    "# filling missing values \n",
    "full_table[['Province/State']] = full_table[['Province/State']].fillna('')\n",
    "full_table[cases] = full_table[cases].fillna(0)"
   ]
  },
  {
   "cell_type": "markdown",
   "metadata": {
    "colab_type": "text",
    "id": "Flol2fV0sFzj"
   },
   "source": [
    "### Derived Tables"
   ]
  },
  {
   "cell_type": "code",
   "execution_count": null,
   "metadata": {
    "_kg_hide-input": true,
    "colab": {},
    "colab_type": "code",
    "id": "JxMlWPW6sFzl"
   },
   "outputs": [],
   "source": [
    "# cases in the ships\n",
    "ship = full_table[full_table['Province/State'].str.contains('Grand Princess')|full_table['Province/State'].str.contains('Diamond Princess cruise ship')]\n",
    "\n",
    "# china and the row\n",
    "china = full_table[full_table['Country/Region']=='China']\n",
    "row = full_table[full_table['Country/Region']!='China']\n",
    "\n",
    "# latest\n",
    "full_latest = full_table[full_table['Date'] == max(full_table['Date'])].reset_index()\n",
    "china_latest = full_latest[full_latest['Country/Region']=='China']\n",
    "row_latest = full_latest[full_latest['Country/Region']!='China']\n",
    "\n",
    "# latest condensed\n",
    "full_latest_grouped = full_latest.groupby('Country/Region')['Confirmed', 'Deaths', 'Recovered', 'Active'].sum().reset_index()\n",
    "china_latest_grouped = china_latest.groupby('Province/State')['Confirmed', 'Deaths', 'Recovered', 'Active'].sum().reset_index()\n",
    "row_latest_grouped = row_latest.groupby('Country/Region')['Confirmed', 'Deaths', 'Recovered', 'Active'].sum().reset_index()"
   ]
  },
  {
   "cell_type": "markdown",
   "metadata": {
    "colab_type": "text",
    "id": "tOY_fKThsFzr"
   },
   "source": [
    "# Latest Data"
   ]
  },
  {
   "cell_type": "markdown",
   "metadata": {
    "colab_type": "text",
    "id": "fgCJijf3sFzs"
   },
   "source": [
    "### Latest Complete Data"
   ]
  },
  {
   "cell_type": "code",
   "execution_count": null,
   "metadata": {
    "_kg_hide-input": true,
    "colab": {},
    "colab_type": "code",
    "id": "DDGYtdV1sFzu"
   },
   "outputs": [],
   "source": [
    "temp = full_table.groupby(['Country/Region', 'Province/State'])['Confirmed', 'Deaths', 'Recovered', 'Active'].max()\n",
    "temp.style.background_gradient(cmap='Reds')"
   ]
  },
  {
   "cell_type": "markdown",
   "metadata": {
    "colab_type": "text",
    "id": "zrcmM-9MsFzz"
   },
   "source": [
    "### Latest Condensed Data"
   ]
  },
  {
   "cell_type": "code",
   "execution_count": null,
   "metadata": {
    "_kg_hide-input": true,
    "colab": {},
    "colab_type": "code",
    "id": "bapwB2-PsFz0"
   },
   "outputs": [],
   "source": [
    "temp = full_table.groupby('Date')['Confirmed', 'Deaths', 'Recovered', 'Active'].sum().reset_index()\n",
    "temp = temp[temp['Date']==max(temp['Date'])].reset_index(drop=True)\n",
    "temp.style.background_gradient(cmap='Pastel1')"
   ]
  },
  {
   "cell_type": "code",
   "execution_count": null,
   "metadata": {
    "_kg_hide-input": true,
    "colab": {},
    "colab_type": "code",
    "id": "VZdIj8UJsFz5"
   },
   "outputs": [],
   "source": [
    "tm = temp.melt(id_vars=\"Date\", value_vars=['Active', 'Deaths', 'Recovered'])\n",
    "fig = px.treemap(tm, path=[\"variable\"], values=\"value\", height=400, width=600,\n",
    "                 color_discrete_sequence=[rec, act, dth])\n",
    "fig.show()"
   ]
  },
  {
   "cell_type": "markdown",
   "metadata": {
    "colab_type": "text",
    "id": "__ODztIOsF0A"
   },
   "source": [
    "# Country wise Data"
   ]
  },
  {
   "cell_type": "markdown",
   "metadata": {
    "colab_type": "text",
    "id": "PjsOMFBisF0C"
   },
   "source": [
    "### In each country"
   ]
  },
  {
   "cell_type": "code",
   "execution_count": 3,
   "metadata": {
    "_kg_hide-input": true,
    "colab": {},
    "colab_type": "code",
    "id": "HUfRPTRksF0D"
   },
   "outputs": [
    {
     "ename": "NameError",
     "evalue": "name 'full_latest_grouped' is not defined",
     "output_type": "error",
     "traceback": [
      "\u001b[1;31m---------------------------------------------------------------------------\u001b[0m",
      "\u001b[1;31mNameError\u001b[0m                                 Traceback (most recent call last)",
      "\u001b[1;32m<ipython-input-3-9fedd2933c24>\u001b[0m in \u001b[0;36m<module>\u001b[1;34m\u001b[0m\n\u001b[1;32m----> 1\u001b[1;33m \u001b[0mtemp_f\u001b[0m \u001b[1;33m=\u001b[0m \u001b[0mfull_latest_grouped\u001b[0m\u001b[1;33m.\u001b[0m\u001b[0msort_values\u001b[0m\u001b[1;33m(\u001b[0m\u001b[0mby\u001b[0m\u001b[1;33m=\u001b[0m\u001b[1;34m'Confirmed'\u001b[0m\u001b[1;33m,\u001b[0m \u001b[0mascending\u001b[0m\u001b[1;33m=\u001b[0m\u001b[1;32mFalse\u001b[0m\u001b[1;33m)\u001b[0m\u001b[1;33m\u001b[0m\u001b[1;33m\u001b[0m\u001b[0m\n\u001b[0m\u001b[0;32m      2\u001b[0m \u001b[0mtemp_f\u001b[0m \u001b[1;33m=\u001b[0m \u001b[0mtemp_f\u001b[0m\u001b[1;33m.\u001b[0m\u001b[0mreset_index\u001b[0m\u001b[1;33m(\u001b[0m\u001b[0mdrop\u001b[0m\u001b[1;33m=\u001b[0m\u001b[1;32mTrue\u001b[0m\u001b[1;33m)\u001b[0m\u001b[1;33m\u001b[0m\u001b[1;33m\u001b[0m\u001b[0m\n\u001b[0;32m      3\u001b[0m \u001b[0mtemp_f\u001b[0m\u001b[1;33m.\u001b[0m\u001b[0mstyle\u001b[0m\u001b[1;33m.\u001b[0m\u001b[0mbackground_gradient\u001b[0m\u001b[1;33m(\u001b[0m\u001b[0mcmap\u001b[0m\u001b[1;33m=\u001b[0m\u001b[1;34m'Reds'\u001b[0m\u001b[1;33m)\u001b[0m\u001b[1;33m\u001b[0m\u001b[1;33m\u001b[0m\u001b[0m\n",
      "\u001b[1;31mNameError\u001b[0m: name 'full_latest_grouped' is not defined"
     ]
    }
   ],
   "source": [
    "temp_f = full_latest_grouped.sort_values(by='Confirmed', ascending=False)\n",
    "temp_f = temp_f.reset_index(drop=True)\n",
    "temp_f.style.background_gradient(cmap='Reds')"
   ]
  },
  {
   "cell_type": "markdown",
   "metadata": {
    "colab_type": "text",
    "id": "2lVNwELdsF0L"
   },
   "source": [
    "### Countries with deaths reported"
   ]
  },
  {
   "cell_type": "code",
   "execution_count": 4,
   "metadata": {
    "_kg_hide-input": true,
    "colab": {},
    "colab_type": "code",
    "id": "M0rQ8WimsF0N"
   },
   "outputs": [
    {
     "ename": "NameError",
     "evalue": "name 'temp_f' is not defined",
     "output_type": "error",
     "traceback": [
      "\u001b[1;31m---------------------------------------------------------------------------\u001b[0m",
      "\u001b[1;31mNameError\u001b[0m                                 Traceback (most recent call last)",
      "\u001b[1;32m<ipython-input-4-337791f5af22>\u001b[0m in \u001b[0;36m<module>\u001b[1;34m\u001b[0m\n\u001b[1;32m----> 1\u001b[1;33m \u001b[0mtemp_flg\u001b[0m \u001b[1;33m=\u001b[0m \u001b[0mtemp_f\u001b[0m\u001b[1;33m[\u001b[0m\u001b[0mtemp_f\u001b[0m\u001b[1;33m[\u001b[0m\u001b[1;34m'Deaths'\u001b[0m\u001b[1;33m]\u001b[0m\u001b[1;33m>\u001b[0m\u001b[1;36m0\u001b[0m\u001b[1;33m]\u001b[0m\u001b[1;33m[\u001b[0m\u001b[1;33m[\u001b[0m\u001b[1;34m'Country/Region'\u001b[0m\u001b[1;33m,\u001b[0m \u001b[1;34m'Deaths'\u001b[0m\u001b[1;33m]\u001b[0m\u001b[1;33m]\u001b[0m\u001b[1;33m\u001b[0m\u001b[1;33m\u001b[0m\u001b[0m\n\u001b[0m\u001b[0;32m      2\u001b[0m \u001b[0mtemp_flg\u001b[0m\u001b[1;33m.\u001b[0m\u001b[0msort_values\u001b[0m\u001b[1;33m(\u001b[0m\u001b[1;34m'Deaths'\u001b[0m\u001b[1;33m,\u001b[0m \u001b[0mascending\u001b[0m\u001b[1;33m=\u001b[0m\u001b[1;32mFalse\u001b[0m\u001b[1;33m)\u001b[0m\u001b[1;33m.\u001b[0m\u001b[0mreset_index\u001b[0m\u001b[1;33m(\u001b[0m\u001b[0mdrop\u001b[0m\u001b[1;33m=\u001b[0m\u001b[1;32mTrue\u001b[0m\u001b[1;33m)\u001b[0m\u001b[1;33m.\u001b[0m\u001b[0mstyle\u001b[0m\u001b[1;33m.\u001b[0m\u001b[0mbackground_gradient\u001b[0m\u001b[1;33m(\u001b[0m\u001b[0mcmap\u001b[0m\u001b[1;33m=\u001b[0m\u001b[1;34m'Reds'\u001b[0m\u001b[1;33m)\u001b[0m\u001b[1;33m\u001b[0m\u001b[1;33m\u001b[0m\u001b[0m\n",
      "\u001b[1;31mNameError\u001b[0m: name 'temp_f' is not defined"
     ]
    }
   ],
   "source": [
    "temp_flg = temp_f[temp_f['Deaths']>0][['Country/Region', 'Deaths']]\n",
    "temp_flg.sort_values('Deaths', ascending=False).reset_index(drop=True).style.background_gradient(cmap='Reds')"
   ]
  },
  {
   "cell_type": "markdown",
   "metadata": {
    "colab_type": "text",
    "id": "f2HZ1nOnsF0S"
   },
   "source": [
    "### Countries with no cases recovered"
   ]
  },
  {
   "cell_type": "code",
   "execution_count": 5,
   "metadata": {
    "_kg_hide-input": true,
    "colab": {},
    "colab_type": "code",
    "id": "9q07uW9bsF0T"
   },
   "outputs": [
    {
     "ename": "NameError",
     "evalue": "name 'temp_f' is not defined",
     "output_type": "error",
     "traceback": [
      "\u001b[1;31m---------------------------------------------------------------------------\u001b[0m",
      "\u001b[1;31mNameError\u001b[0m                                 Traceback (most recent call last)",
      "\u001b[1;32m<ipython-input-5-15cb853c73eb>\u001b[0m in \u001b[0;36m<module>\u001b[1;34m\u001b[0m\n\u001b[1;32m----> 1\u001b[1;33m \u001b[0mtemp\u001b[0m \u001b[1;33m=\u001b[0m \u001b[0mtemp_f\u001b[0m\u001b[1;33m[\u001b[0m\u001b[0mtemp_f\u001b[0m\u001b[1;33m[\u001b[0m\u001b[1;34m'Recovered'\u001b[0m\u001b[1;33m]\u001b[0m\u001b[1;33m==\u001b[0m\u001b[1;36m0\u001b[0m\u001b[1;33m]\u001b[0m\u001b[1;33m[\u001b[0m\u001b[1;33m[\u001b[0m\u001b[1;34m'Country/Region'\u001b[0m\u001b[1;33m,\u001b[0m \u001b[1;34m'Confirmed'\u001b[0m\u001b[1;33m,\u001b[0m \u001b[1;34m'Deaths'\u001b[0m\u001b[1;33m,\u001b[0m \u001b[1;34m'Recovered'\u001b[0m\u001b[1;33m]\u001b[0m\u001b[1;33m]\u001b[0m\u001b[1;33m\u001b[0m\u001b[1;33m\u001b[0m\u001b[0m\n\u001b[0m\u001b[0;32m      2\u001b[0m \u001b[0mtemp\u001b[0m\u001b[1;33m.\u001b[0m\u001b[0mreset_index\u001b[0m\u001b[1;33m(\u001b[0m\u001b[0mdrop\u001b[0m\u001b[1;33m=\u001b[0m\u001b[1;32mTrue\u001b[0m\u001b[1;33m)\u001b[0m\u001b[1;33m.\u001b[0m\u001b[0mstyle\u001b[0m\u001b[1;33m.\u001b[0m\u001b[0mbackground_gradient\u001b[0m\u001b[1;33m(\u001b[0m\u001b[0mcmap\u001b[0m\u001b[1;33m=\u001b[0m\u001b[1;34m'Reds'\u001b[0m\u001b[1;33m)\u001b[0m\u001b[1;33m\u001b[0m\u001b[1;33m\u001b[0m\u001b[0m\n",
      "\u001b[1;31mNameError\u001b[0m: name 'temp_f' is not defined"
     ]
    }
   ],
   "source": [
    "temp = temp_f[temp_f['Recovered']==0][['Country/Region', 'Confirmed', 'Deaths', 'Recovered']]\n",
    "temp.reset_index(drop=True).style.background_gradient(cmap='Reds')"
   ]
  },
  {
   "cell_type": "markdown",
   "metadata": {
    "colab_type": "text",
    "id": "G6-FmSOQsF0c"
   },
   "source": [
    "### Countries with all cases died"
   ]
  },
  {
   "cell_type": "code",
   "execution_count": 6,
   "metadata": {
    "_kg_hide-input": true,
    "colab": {},
    "colab_type": "code",
    "id": "BbCGhqaosF0f"
   },
   "outputs": [
    {
     "ename": "NameError",
     "evalue": "name 'row_latest_grouped' is not defined",
     "output_type": "error",
     "traceback": [
      "\u001b[1;31m---------------------------------------------------------------------------\u001b[0m",
      "\u001b[1;31mNameError\u001b[0m                                 Traceback (most recent call last)",
      "\u001b[1;32m<ipython-input-6-e1e8aced5a51>\u001b[0m in \u001b[0;36m<module>\u001b[1;34m\u001b[0m\n\u001b[1;32m----> 1\u001b[1;33m temp = row_latest_grouped[row_latest_grouped['Confirmed']==\n\u001b[0m\u001b[0;32m      2\u001b[0m                           row_latest_grouped['Deaths']]\n\u001b[0;32m      3\u001b[0m \u001b[0mtemp\u001b[0m \u001b[1;33m=\u001b[0m \u001b[0mtemp\u001b[0m\u001b[1;33m[\u001b[0m\u001b[1;33m[\u001b[0m\u001b[1;34m'Country/Region'\u001b[0m\u001b[1;33m,\u001b[0m \u001b[1;34m'Confirmed'\u001b[0m\u001b[1;33m,\u001b[0m \u001b[1;34m'Deaths'\u001b[0m\u001b[1;33m]\u001b[0m\u001b[1;33m]\u001b[0m\u001b[1;33m\u001b[0m\u001b[1;33m\u001b[0m\u001b[0m\n\u001b[0;32m      4\u001b[0m \u001b[0mtemp\u001b[0m \u001b[1;33m=\u001b[0m \u001b[0mtemp\u001b[0m\u001b[1;33m.\u001b[0m\u001b[0msort_values\u001b[0m\u001b[1;33m(\u001b[0m\u001b[1;34m'Confirmed'\u001b[0m\u001b[1;33m,\u001b[0m \u001b[0mascending\u001b[0m\u001b[1;33m=\u001b[0m\u001b[1;32mFalse\u001b[0m\u001b[1;33m)\u001b[0m\u001b[1;33m\u001b[0m\u001b[1;33m\u001b[0m\u001b[0m\n\u001b[0;32m      5\u001b[0m \u001b[0mtemp\u001b[0m \u001b[1;33m=\u001b[0m \u001b[0mtemp\u001b[0m\u001b[1;33m.\u001b[0m\u001b[0mreset_index\u001b[0m\u001b[1;33m(\u001b[0m\u001b[0mdrop\u001b[0m\u001b[1;33m=\u001b[0m\u001b[1;32mTrue\u001b[0m\u001b[1;33m)\u001b[0m\u001b[1;33m\u001b[0m\u001b[1;33m\u001b[0m\u001b[0m\n",
      "\u001b[1;31mNameError\u001b[0m: name 'row_latest_grouped' is not defined"
     ]
    }
   ],
   "source": [
    "temp = row_latest_grouped[row_latest_grouped['Confirmed']==\n",
    "                          row_latest_grouped['Deaths']]\n",
    "temp = temp[['Country/Region', 'Confirmed', 'Deaths']]\n",
    "temp = temp.sort_values('Confirmed', ascending=False)\n",
    "temp = temp.reset_index(drop=True)\n",
    "temp.style.background_gradient(cmap='Reds')"
   ]
  },
  {
   "cell_type": "markdown",
   "metadata": {
    "colab_type": "text",
    "id": "vBzCHR6IsF0k"
   },
   "source": [
    "### Countries with all the cases recovered"
   ]
  },
  {
   "cell_type": "code",
   "execution_count": 7,
   "metadata": {
    "_kg_hide-input": true,
    "colab": {},
    "colab_type": "code",
    "id": "njAQawkXsF0m"
   },
   "outputs": [
    {
     "ename": "NameError",
     "evalue": "name 'row_latest_grouped' is not defined",
     "output_type": "error",
     "traceback": [
      "\u001b[1;31m---------------------------------------------------------------------------\u001b[0m",
      "\u001b[1;31mNameError\u001b[0m                                 Traceback (most recent call last)",
      "\u001b[1;32m<ipython-input-7-1d60ab605564>\u001b[0m in \u001b[0;36m<module>\u001b[1;34m\u001b[0m\n\u001b[1;32m----> 1\u001b[1;33m temp = row_latest_grouped[row_latest_grouped['Confirmed']==\n\u001b[0m\u001b[0;32m      2\u001b[0m                           row_latest_grouped['Recovered']]\n\u001b[0;32m      3\u001b[0m \u001b[0mtemp\u001b[0m \u001b[1;33m=\u001b[0m \u001b[0mtemp\u001b[0m\u001b[1;33m[\u001b[0m\u001b[1;33m[\u001b[0m\u001b[1;34m'Country/Region'\u001b[0m\u001b[1;33m,\u001b[0m \u001b[1;34m'Confirmed'\u001b[0m\u001b[1;33m,\u001b[0m \u001b[1;34m'Recovered'\u001b[0m\u001b[1;33m]\u001b[0m\u001b[1;33m]\u001b[0m\u001b[1;33m\u001b[0m\u001b[1;33m\u001b[0m\u001b[0m\n\u001b[0;32m      4\u001b[0m \u001b[0mtemp\u001b[0m \u001b[1;33m=\u001b[0m \u001b[0mtemp\u001b[0m\u001b[1;33m.\u001b[0m\u001b[0msort_values\u001b[0m\u001b[1;33m(\u001b[0m\u001b[1;34m'Confirmed'\u001b[0m\u001b[1;33m,\u001b[0m \u001b[0mascending\u001b[0m\u001b[1;33m=\u001b[0m\u001b[1;32mFalse\u001b[0m\u001b[1;33m)\u001b[0m\u001b[1;33m\u001b[0m\u001b[1;33m\u001b[0m\u001b[0m\n\u001b[0;32m      5\u001b[0m \u001b[0mtemp\u001b[0m \u001b[1;33m=\u001b[0m \u001b[0mtemp\u001b[0m\u001b[1;33m.\u001b[0m\u001b[0mreset_index\u001b[0m\u001b[1;33m(\u001b[0m\u001b[0mdrop\u001b[0m\u001b[1;33m=\u001b[0m\u001b[1;32mTrue\u001b[0m\u001b[1;33m)\u001b[0m\u001b[1;33m\u001b[0m\u001b[1;33m\u001b[0m\u001b[0m\n",
      "\u001b[1;31mNameError\u001b[0m: name 'row_latest_grouped' is not defined"
     ]
    }
   ],
   "source": [
    "temp = row_latest_grouped[row_latest_grouped['Confirmed']==\n",
    "                          row_latest_grouped['Recovered']]\n",
    "temp = temp[['Country/Region', 'Confirmed', 'Recovered']]\n",
    "temp = temp.sort_values('Confirmed', ascending=False)\n",
    "temp = temp.reset_index(drop=True)\n",
    "temp.style.background_gradient(cmap='Greens')"
   ]
  },
  {
   "cell_type": "markdown",
   "metadata": {
    "colab_type": "text",
    "id": "geQF5pLHsF0u"
   },
   "source": [
    "### Countries with no affected case anymore"
   ]
  },
  {
   "cell_type": "code",
   "execution_count": 8,
   "metadata": {
    "_kg_hide-input": true,
    "colab": {},
    "colab_type": "code",
    "id": "r8itTEJosF0w"
   },
   "outputs": [
    {
     "ename": "NameError",
     "evalue": "name 'row_latest_grouped' is not defined",
     "output_type": "error",
     "traceback": [
      "\u001b[1;31m---------------------------------------------------------------------------\u001b[0m",
      "\u001b[1;31mNameError\u001b[0m                                 Traceback (most recent call last)",
      "\u001b[1;32m<ipython-input-8-fb4ae92e3947>\u001b[0m in \u001b[0;36m<module>\u001b[1;34m\u001b[0m\n\u001b[1;32m----> 1\u001b[1;33m temp = row_latest_grouped[row_latest_grouped['Confirmed']==\n\u001b[0m\u001b[0;32m      2\u001b[0m                           \u001b[0mrow_latest_grouped\u001b[0m\u001b[1;33m[\u001b[0m\u001b[1;34m'Deaths'\u001b[0m\u001b[1;33m]\u001b[0m\u001b[1;33m+\u001b[0m\u001b[1;33m\u001b[0m\u001b[1;33m\u001b[0m\u001b[0m\n\u001b[0;32m      3\u001b[0m                           row_latest_grouped['Recovered']]\n\u001b[0;32m      4\u001b[0m \u001b[0mtemp\u001b[0m \u001b[1;33m=\u001b[0m \u001b[0mtemp\u001b[0m\u001b[1;33m[\u001b[0m\u001b[1;33m[\u001b[0m\u001b[1;34m'Country/Region'\u001b[0m\u001b[1;33m,\u001b[0m \u001b[1;34m'Confirmed'\u001b[0m\u001b[1;33m,\u001b[0m \u001b[1;34m'Deaths'\u001b[0m\u001b[1;33m,\u001b[0m \u001b[1;34m'Recovered'\u001b[0m\u001b[1;33m]\u001b[0m\u001b[1;33m]\u001b[0m\u001b[1;33m\u001b[0m\u001b[1;33m\u001b[0m\u001b[0m\n\u001b[0;32m      5\u001b[0m \u001b[0mtemp\u001b[0m \u001b[1;33m=\u001b[0m \u001b[0mtemp\u001b[0m\u001b[1;33m.\u001b[0m\u001b[0msort_values\u001b[0m\u001b[1;33m(\u001b[0m\u001b[1;34m'Confirmed'\u001b[0m\u001b[1;33m,\u001b[0m \u001b[0mascending\u001b[0m\u001b[1;33m=\u001b[0m\u001b[1;32mFalse\u001b[0m\u001b[1;33m)\u001b[0m\u001b[1;33m\u001b[0m\u001b[1;33m\u001b[0m\u001b[0m\n",
      "\u001b[1;31mNameError\u001b[0m: name 'row_latest_grouped' is not defined"
     ]
    }
   ],
   "source": [
    "temp = row_latest_grouped[row_latest_grouped['Confirmed']==\n",
    "                          row_latest_grouped['Deaths']+\n",
    "                          row_latest_grouped['Recovered']]\n",
    "temp = temp[['Country/Region', 'Confirmed', 'Deaths', 'Recovered']]\n",
    "temp = temp.sort_values('Confirmed', ascending=False)\n",
    "temp = temp.reset_index(drop=True)\n",
    "temp.style.background_gradient(cmap='Greens')"
   ]
  },
  {
   "cell_type": "markdown",
   "metadata": {
    "colab_type": "text",
    "id": "GMN-9NHJsF0z"
   },
   "source": [
    "# Chinese province wise data"
   ]
  },
  {
   "cell_type": "markdown",
   "metadata": {
    "colab_type": "text",
    "id": "SoPLjy_0sF01"
   },
   "source": [
    "### In each provinces"
   ]
  },
  {
   "cell_type": "code",
   "execution_count": 9,
   "metadata": {
    "_kg_hide-input": true,
    "colab": {},
    "colab_type": "code",
    "id": "YgwRKX8fsF03"
   },
   "outputs": [
    {
     "ename": "NameError",
     "evalue": "name 'china_latest_grouped' is not defined",
     "output_type": "error",
     "traceback": [
      "\u001b[1;31m---------------------------------------------------------------------------\u001b[0m",
      "\u001b[1;31mNameError\u001b[0m                                 Traceback (most recent call last)",
      "\u001b[1;32m<ipython-input-9-4f210de6c58c>\u001b[0m in \u001b[0;36m<module>\u001b[1;34m\u001b[0m\n\u001b[1;32m----> 1\u001b[1;33m \u001b[0mtemp_f\u001b[0m \u001b[1;33m=\u001b[0m \u001b[0mchina_latest_grouped\u001b[0m\u001b[1;33m[\u001b[0m\u001b[1;33m[\u001b[0m\u001b[1;34m'Province/State'\u001b[0m\u001b[1;33m,\u001b[0m \u001b[1;34m'Confirmed'\u001b[0m\u001b[1;33m,\u001b[0m \u001b[1;34m'Deaths'\u001b[0m\u001b[1;33m,\u001b[0m \u001b[1;34m'Recovered'\u001b[0m\u001b[1;33m]\u001b[0m\u001b[1;33m]\u001b[0m\u001b[1;33m\u001b[0m\u001b[1;33m\u001b[0m\u001b[0m\n\u001b[0m\u001b[0;32m      2\u001b[0m \u001b[0mtemp_f\u001b[0m \u001b[1;33m=\u001b[0m \u001b[0mtemp_f\u001b[0m\u001b[1;33m.\u001b[0m\u001b[0msort_values\u001b[0m\u001b[1;33m(\u001b[0m\u001b[0mby\u001b[0m\u001b[1;33m=\u001b[0m\u001b[1;34m'Confirmed'\u001b[0m\u001b[1;33m,\u001b[0m \u001b[0mascending\u001b[0m\u001b[1;33m=\u001b[0m\u001b[1;32mFalse\u001b[0m\u001b[1;33m)\u001b[0m\u001b[1;33m\u001b[0m\u001b[1;33m\u001b[0m\u001b[0m\n\u001b[0;32m      3\u001b[0m \u001b[0mtemp_f\u001b[0m \u001b[1;33m=\u001b[0m \u001b[0mtemp_f\u001b[0m\u001b[1;33m.\u001b[0m\u001b[0mreset_index\u001b[0m\u001b[1;33m(\u001b[0m\u001b[0mdrop\u001b[0m\u001b[1;33m=\u001b[0m\u001b[1;32mTrue\u001b[0m\u001b[1;33m)\u001b[0m\u001b[1;33m\u001b[0m\u001b[1;33m\u001b[0m\u001b[0m\n\u001b[0;32m      4\u001b[0m \u001b[0mtemp_f\u001b[0m\u001b[1;33m.\u001b[0m\u001b[0mstyle\u001b[0m\u001b[1;33m.\u001b[0m\u001b[0mbackground_gradient\u001b[0m\u001b[1;33m(\u001b[0m\u001b[0mcmap\u001b[0m\u001b[1;33m=\u001b[0m\u001b[1;34m'Pastel1_r'\u001b[0m\u001b[1;33m)\u001b[0m\u001b[1;33m\u001b[0m\u001b[1;33m\u001b[0m\u001b[0m\n",
      "\u001b[1;31mNameError\u001b[0m: name 'china_latest_grouped' is not defined"
     ]
    }
   ],
   "source": [
    "temp_f = china_latest_grouped[['Province/State', 'Confirmed', 'Deaths', 'Recovered']]\n",
    "temp_f = temp_f.sort_values(by='Confirmed', ascending=False)\n",
    "temp_f = temp_f.reset_index(drop=True)\n",
    "temp_f.style.background_gradient(cmap='Pastel1_r')"
   ]
  },
  {
   "cell_type": "markdown",
   "metadata": {
    "colab_type": "text",
    "id": "2p3brhNDsF1A"
   },
   "source": [
    "### Provinces with no cases recovered"
   ]
  },
  {
   "cell_type": "code",
   "execution_count": 10,
   "metadata": {
    "_kg_hide-input": true,
    "colab": {},
    "colab_type": "code",
    "id": "OaScbzaZsF1B"
   },
   "outputs": [
    {
     "ename": "NameError",
     "evalue": "name 'china_latest_grouped' is not defined",
     "output_type": "error",
     "traceback": [
      "\u001b[1;31m---------------------------------------------------------------------------\u001b[0m",
      "\u001b[1;31mNameError\u001b[0m                                 Traceback (most recent call last)",
      "\u001b[1;32m<ipython-input-10-f33bb5d5b108>\u001b[0m in \u001b[0;36m<module>\u001b[1;34m\u001b[0m\n\u001b[1;32m----> 1\u001b[1;33m \u001b[0mtemp\u001b[0m \u001b[1;33m=\u001b[0m \u001b[0mchina_latest_grouped\u001b[0m\u001b[1;33m[\u001b[0m\u001b[0mchina_latest_grouped\u001b[0m\u001b[1;33m[\u001b[0m\u001b[1;34m'Recovered'\u001b[0m\u001b[1;33m]\u001b[0m\u001b[1;33m==\u001b[0m\u001b[1;36m0\u001b[0m\u001b[1;33m]\u001b[0m\u001b[1;33m\u001b[0m\u001b[1;33m\u001b[0m\u001b[0m\n\u001b[0m\u001b[0;32m      2\u001b[0m \u001b[0mtemp\u001b[0m \u001b[1;33m=\u001b[0m \u001b[0mtemp\u001b[0m\u001b[1;33m[\u001b[0m\u001b[1;33m[\u001b[0m\u001b[1;34m'Province/State'\u001b[0m\u001b[1;33m,\u001b[0m \u001b[1;34m'Confirmed'\u001b[0m\u001b[1;33m,\u001b[0m \u001b[1;34m'Deaths'\u001b[0m\u001b[1;33m,\u001b[0m \u001b[1;34m'Recovered'\u001b[0m\u001b[1;33m]\u001b[0m\u001b[1;33m]\u001b[0m\u001b[1;33m\u001b[0m\u001b[1;33m\u001b[0m\u001b[0m\n\u001b[0;32m      3\u001b[0m \u001b[0mtemp\u001b[0m \u001b[1;33m=\u001b[0m \u001b[0mtemp\u001b[0m\u001b[1;33m.\u001b[0m\u001b[0msort_values\u001b[0m\u001b[1;33m(\u001b[0m\u001b[1;34m'Confirmed'\u001b[0m\u001b[1;33m,\u001b[0m \u001b[0mascending\u001b[0m\u001b[1;33m=\u001b[0m\u001b[1;32mFalse\u001b[0m\u001b[1;33m)\u001b[0m\u001b[1;33m\u001b[0m\u001b[1;33m\u001b[0m\u001b[0m\n\u001b[0;32m      4\u001b[0m \u001b[0mtemp\u001b[0m \u001b[1;33m=\u001b[0m \u001b[0mtemp\u001b[0m\u001b[1;33m.\u001b[0m\u001b[0mreset_index\u001b[0m\u001b[1;33m(\u001b[0m\u001b[0mdrop\u001b[0m\u001b[1;33m=\u001b[0m\u001b[1;32mTrue\u001b[0m\u001b[1;33m)\u001b[0m\u001b[1;33m\u001b[0m\u001b[1;33m\u001b[0m\u001b[0m\n\u001b[0;32m      5\u001b[0m \u001b[0mtemp\u001b[0m\u001b[1;33m.\u001b[0m\u001b[0mstyle\u001b[0m\u001b[1;33m.\u001b[0m\u001b[0mbackground_gradient\u001b[0m\u001b[1;33m(\u001b[0m\u001b[0mcmap\u001b[0m\u001b[1;33m=\u001b[0m\u001b[1;34m'Pastel1_r'\u001b[0m\u001b[1;33m)\u001b[0m\u001b[1;33m\u001b[0m\u001b[1;33m\u001b[0m\u001b[0m\n",
      "\u001b[1;31mNameError\u001b[0m: name 'china_latest_grouped' is not defined"
     ]
    }
   ],
   "source": [
    "temp = china_latest_grouped[china_latest_grouped['Recovered']==0]\n",
    "temp = temp[['Province/State', 'Confirmed', 'Deaths', 'Recovered']]\n",
    "temp = temp.sort_values('Confirmed', ascending=False)\n",
    "temp = temp.reset_index(drop=True)\n",
    "temp.style.background_gradient(cmap='Pastel1_r')"
   ]
  },
  {
   "cell_type": "markdown",
   "metadata": {
    "colab_type": "text",
    "id": "BaSDe-ldsF1F"
   },
   "source": [
    "### Provinces with all cases died"
   ]
  },
  {
   "cell_type": "code",
   "execution_count": 11,
   "metadata": {
    "_kg_hide-input": true,
    "colab": {},
    "colab_type": "code",
    "id": "ev8mc2OVsF1H"
   },
   "outputs": [
    {
     "ename": "NameError",
     "evalue": "name 'china_latest_grouped' is not defined",
     "output_type": "error",
     "traceback": [
      "\u001b[1;31m---------------------------------------------------------------------------\u001b[0m",
      "\u001b[1;31mNameError\u001b[0m                                 Traceback (most recent call last)",
      "\u001b[1;32m<ipython-input-11-5721abd8e952>\u001b[0m in \u001b[0;36m<module>\u001b[1;34m\u001b[0m\n\u001b[1;32m----> 1\u001b[1;33m temp = china_latest_grouped[china_latest_grouped['Confirmed']==\n\u001b[0m\u001b[0;32m      2\u001b[0m                           china_latest_grouped['Deaths']]\n\u001b[0;32m      3\u001b[0m \u001b[0mtemp\u001b[0m \u001b[1;33m=\u001b[0m \u001b[0mtemp\u001b[0m\u001b[1;33m[\u001b[0m\u001b[1;33m[\u001b[0m\u001b[1;34m'Province/State'\u001b[0m\u001b[1;33m,\u001b[0m \u001b[1;34m'Confirmed'\u001b[0m\u001b[1;33m,\u001b[0m \u001b[1;34m'Deaths'\u001b[0m\u001b[1;33m,\u001b[0m \u001b[1;34m'Recovered'\u001b[0m\u001b[1;33m]\u001b[0m\u001b[1;33m]\u001b[0m\u001b[1;33m\u001b[0m\u001b[1;33m\u001b[0m\u001b[0m\n\u001b[0;32m      4\u001b[0m \u001b[0mtemp\u001b[0m \u001b[1;33m=\u001b[0m \u001b[0mtemp\u001b[0m\u001b[1;33m.\u001b[0m\u001b[0msort_values\u001b[0m\u001b[1;33m(\u001b[0m\u001b[1;34m'Confirmed'\u001b[0m\u001b[1;33m,\u001b[0m \u001b[0mascending\u001b[0m\u001b[1;33m=\u001b[0m\u001b[1;32mFalse\u001b[0m\u001b[1;33m)\u001b[0m\u001b[1;33m\u001b[0m\u001b[1;33m\u001b[0m\u001b[0m\n\u001b[0;32m      5\u001b[0m \u001b[0mtemp\u001b[0m \u001b[1;33m=\u001b[0m \u001b[0mtemp\u001b[0m\u001b[1;33m.\u001b[0m\u001b[0mreset_index\u001b[0m\u001b[1;33m(\u001b[0m\u001b[0mdrop\u001b[0m\u001b[1;33m=\u001b[0m\u001b[1;32mTrue\u001b[0m\u001b[1;33m)\u001b[0m\u001b[1;33m\u001b[0m\u001b[1;33m\u001b[0m\u001b[0m\n",
      "\u001b[1;31mNameError\u001b[0m: name 'china_latest_grouped' is not defined"
     ]
    }
   ],
   "source": [
    "temp = china_latest_grouped[china_latest_grouped['Confirmed']==\n",
    "                          china_latest_grouped['Deaths']]\n",
    "temp = temp[['Province/State', 'Confirmed', 'Deaths', 'Recovered']]\n",
    "temp = temp.sort_values('Confirmed', ascending=False)\n",
    "temp = temp.reset_index(drop=True)\n",
    "temp.style.background_gradient(cmap='Greens')"
   ]
  },
  {
   "cell_type": "markdown",
   "metadata": {
    "colab_type": "text",
    "id": "pZp0bzTcsF1O"
   },
   "source": [
    "### Provinces with all the cases recovered"
   ]
  },
  {
   "cell_type": "code",
   "execution_count": 12,
   "metadata": {
    "_kg_hide-input": true,
    "colab": {},
    "colab_type": "code",
    "id": "tSQVIzRWsF1S"
   },
   "outputs": [
    {
     "ename": "NameError",
     "evalue": "name 'china_latest_grouped' is not defined",
     "output_type": "error",
     "traceback": [
      "\u001b[1;31m---------------------------------------------------------------------------\u001b[0m",
      "\u001b[1;31mNameError\u001b[0m                                 Traceback (most recent call last)",
      "\u001b[1;32m<ipython-input-12-489bb18cb77f>\u001b[0m in \u001b[0;36m<module>\u001b[1;34m\u001b[0m\n\u001b[1;32m----> 1\u001b[1;33m temp = china_latest_grouped[china_latest_grouped['Confirmed']==\n\u001b[0m\u001b[0;32m      2\u001b[0m                           china_latest_grouped['Recovered']]\n\u001b[0;32m      3\u001b[0m \u001b[0mtemp\u001b[0m \u001b[1;33m=\u001b[0m \u001b[0mtemp\u001b[0m\u001b[1;33m[\u001b[0m\u001b[1;33m[\u001b[0m\u001b[1;34m'Province/State'\u001b[0m\u001b[1;33m,\u001b[0m \u001b[1;34m'Confirmed'\u001b[0m\u001b[1;33m,\u001b[0m\u001b[1;34m'Deaths'\u001b[0m\u001b[1;33m,\u001b[0m \u001b[1;34m'Recovered'\u001b[0m\u001b[1;33m]\u001b[0m\u001b[1;33m]\u001b[0m\u001b[1;33m\u001b[0m\u001b[1;33m\u001b[0m\u001b[0m\n\u001b[0;32m      4\u001b[0m \u001b[0mtemp\u001b[0m \u001b[1;33m=\u001b[0m \u001b[0mtemp\u001b[0m\u001b[1;33m.\u001b[0m\u001b[0msort_values\u001b[0m\u001b[1;33m(\u001b[0m\u001b[1;34m'Confirmed'\u001b[0m\u001b[1;33m,\u001b[0m \u001b[0mascending\u001b[0m\u001b[1;33m=\u001b[0m\u001b[1;32mFalse\u001b[0m\u001b[1;33m)\u001b[0m\u001b[1;33m\u001b[0m\u001b[1;33m\u001b[0m\u001b[0m\n\u001b[0;32m      5\u001b[0m \u001b[0mtemp\u001b[0m \u001b[1;33m=\u001b[0m \u001b[0mtemp\u001b[0m\u001b[1;33m.\u001b[0m\u001b[0mreset_index\u001b[0m\u001b[1;33m(\u001b[0m\u001b[0mdrop\u001b[0m\u001b[1;33m=\u001b[0m\u001b[1;32mTrue\u001b[0m\u001b[1;33m)\u001b[0m\u001b[1;33m\u001b[0m\u001b[1;33m\u001b[0m\u001b[0m\n",
      "\u001b[1;31mNameError\u001b[0m: name 'china_latest_grouped' is not defined"
     ]
    }
   ],
   "source": [
    "temp = china_latest_grouped[china_latest_grouped['Confirmed']==\n",
    "                          china_latest_grouped['Recovered']]\n",
    "temp = temp[['Province/State', 'Confirmed','Deaths', 'Recovered']]\n",
    "temp = temp.sort_values('Confirmed', ascending=False)\n",
    "temp = temp.reset_index(drop=True)\n",
    "temp.style.background_gradient(cmap='Greens')"
   ]
  },
  {
   "cell_type": "markdown",
   "metadata": {
    "colab_type": "text",
    "id": "fScYuVENsF1X"
   },
   "source": [
    "### Provinces with no affected cases anymore"
   ]
  },
  {
   "cell_type": "code",
   "execution_count": 13,
   "metadata": {
    "_kg_hide-input": true,
    "colab": {},
    "colab_type": "code",
    "id": "zkumqs2_sF1Y"
   },
   "outputs": [
    {
     "ename": "NameError",
     "evalue": "name 'china_latest_grouped' is not defined",
     "output_type": "error",
     "traceback": [
      "\u001b[1;31m---------------------------------------------------------------------------\u001b[0m",
      "\u001b[1;31mNameError\u001b[0m                                 Traceback (most recent call last)",
      "\u001b[1;32m<ipython-input-13-caf3dda06f3d>\u001b[0m in \u001b[0;36m<module>\u001b[1;34m\u001b[0m\n\u001b[1;32m----> 1\u001b[1;33m temp = china_latest_grouped[china_latest_grouped['Confirmed']==\n\u001b[0m\u001b[0;32m      2\u001b[0m                           \u001b[0mchina_latest_grouped\u001b[0m\u001b[1;33m[\u001b[0m\u001b[1;34m'Deaths'\u001b[0m\u001b[1;33m]\u001b[0m\u001b[1;33m+\u001b[0m\u001b[1;33m\u001b[0m\u001b[1;33m\u001b[0m\u001b[0m\n\u001b[0;32m      3\u001b[0m                           china_latest_grouped['Recovered']]\n\u001b[0;32m      4\u001b[0m \u001b[0mtemp\u001b[0m \u001b[1;33m=\u001b[0m \u001b[0mtemp\u001b[0m\u001b[1;33m[\u001b[0m\u001b[1;33m[\u001b[0m\u001b[1;34m'Province/State'\u001b[0m\u001b[1;33m,\u001b[0m \u001b[1;34m'Confirmed'\u001b[0m\u001b[1;33m,\u001b[0m \u001b[1;34m'Deaths'\u001b[0m\u001b[1;33m,\u001b[0m \u001b[1;34m'Recovered'\u001b[0m\u001b[1;33m]\u001b[0m\u001b[1;33m]\u001b[0m\u001b[1;33m\u001b[0m\u001b[1;33m\u001b[0m\u001b[0m\n\u001b[0;32m      5\u001b[0m \u001b[0mtemp\u001b[0m \u001b[1;33m=\u001b[0m \u001b[0mtemp\u001b[0m\u001b[1;33m.\u001b[0m\u001b[0msort_values\u001b[0m\u001b[1;33m(\u001b[0m\u001b[1;34m'Confirmed'\u001b[0m\u001b[1;33m,\u001b[0m \u001b[0mascending\u001b[0m\u001b[1;33m=\u001b[0m\u001b[1;32mFalse\u001b[0m\u001b[1;33m)\u001b[0m\u001b[1;33m\u001b[0m\u001b[1;33m\u001b[0m\u001b[0m\n",
      "\u001b[1;31mNameError\u001b[0m: name 'china_latest_grouped' is not defined"
     ]
    }
   ],
   "source": [
    "temp = china_latest_grouped[china_latest_grouped['Confirmed']==\n",
    "                          china_latest_grouped['Deaths']+\n",
    "                          china_latest_grouped['Recovered']]\n",
    "temp = temp[['Province/State', 'Confirmed', 'Deaths', 'Recovered']]\n",
    "temp = temp.sort_values('Confirmed', ascending=False)\n",
    "temp = temp.reset_index(drop=True)\n",
    "temp.style.background_gradient(cmap='Greens')"
   ]
  },
  {
   "cell_type": "markdown",
   "metadata": {
    "colab_type": "text",
    "id": "a5QaSnR3sF1e"
   },
   "source": [
    "# Maps"
   ]
  },
  {
   "cell_type": "markdown",
   "metadata": {
    "colab_type": "text",
    "id": "-UjYrGrxsF1f"
   },
   "source": [
    "### Across the world"
   ]
  },
  {
   "cell_type": "code",
   "execution_count": 14,
   "metadata": {
    "_kg_hide-input": true,
    "colab": {},
    "colab_type": "code",
    "id": "DvO6Dyw5sF1g"
   },
   "outputs": [
    {
     "ename": "NameError",
     "evalue": "name 'folium' is not defined",
     "output_type": "error",
     "traceback": [
      "\u001b[1;31m---------------------------------------------------------------------------\u001b[0m",
      "\u001b[1;31mNameError\u001b[0m                                 Traceback (most recent call last)",
      "\u001b[1;32m<ipython-input-14-047787d9cd30>\u001b[0m in \u001b[0;36m<module>\u001b[1;34m\u001b[0m\n\u001b[0;32m      1\u001b[0m \u001b[1;31m# World wide\u001b[0m\u001b[1;33m\u001b[0m\u001b[1;33m\u001b[0m\u001b[1;33m\u001b[0m\u001b[0m\n\u001b[0;32m      2\u001b[0m \u001b[1;33m\u001b[0m\u001b[0m\n\u001b[1;32m----> 3\u001b[1;33m m = folium.Map(location=[0, 0], tiles='cartodbpositron',\n\u001b[0m\u001b[0;32m      4\u001b[0m                min_zoom=1, max_zoom=4, zoom_start=1)\n\u001b[0;32m      5\u001b[0m \u001b[1;33m\u001b[0m\u001b[0m\n",
      "\u001b[1;31mNameError\u001b[0m: name 'folium' is not defined"
     ]
    }
   ],
   "source": [
    "# World wide\n",
    "\n",
    "m = folium.Map(location=[0, 0], tiles='cartodbpositron',\n",
    "               min_zoom=1, max_zoom=4, zoom_start=1)\n",
    "\n",
    "for i in range(0, len(full_latest)):\n",
    "    folium.Circle(\n",
    "        location=[full_latest.iloc[i]['Lat'], full_latest.iloc[i]['Long']],\n",
    "        color='crimson', \n",
    "        tooltip =   '<li><bold>Country : '+str(full_latest.iloc[i]['Country/Region'])+\n",
    "                    '<li><bold>Province : '+str(full_latest.iloc[i]['Province/State'])+\n",
    "                    '<li><bold>Confirmed : '+str(full_latest.iloc[i]['Confirmed'])+\n",
    "                    '<li><bold>Deaths : '+str(full_latest.iloc[i]['Deaths'])+\n",
    "                    '<li><bold>Recovered : '+str(full_latest.iloc[i]['Recovered']),\n",
    "        radius=int(full_latest.iloc[i]['Confirmed'])**1.1).add_to(m)\n",
    "m"
   ]
  },
  {
   "cell_type": "code",
   "execution_count": 15,
   "metadata": {
    "_kg_hide-input": true,
    "colab": {},
    "colab_type": "code",
    "id": "L5Cxl7apsF1n"
   },
   "outputs": [
    {
     "ename": "NameError",
     "evalue": "name 'full_latest_grouped' is not defined",
     "output_type": "error",
     "traceback": [
      "\u001b[1;31m---------------------------------------------------------------------------\u001b[0m",
      "\u001b[1;31mNameError\u001b[0m                                 Traceback (most recent call last)",
      "\u001b[1;32m<ipython-input-15-3ca6d50cc713>\u001b[0m in \u001b[0;36m<module>\u001b[1;34m\u001b[0m\n\u001b[0;32m      1\u001b[0m \u001b[1;31m# Confirmed\u001b[0m\u001b[1;33m\u001b[0m\u001b[1;33m\u001b[0m\u001b[1;33m\u001b[0m\u001b[0m\n\u001b[0;32m      2\u001b[0m \u001b[1;33m\u001b[0m\u001b[0m\n\u001b[1;32m----> 3\u001b[1;33m fig = px.choropleth(full_latest_grouped, locations=\"Country/Region\", \n\u001b[0m\u001b[0;32m      4\u001b[0m                     \u001b[0mlocationmode\u001b[0m\u001b[1;33m=\u001b[0m\u001b[1;34m'country names'\u001b[0m\u001b[1;33m,\u001b[0m \u001b[0mcolor\u001b[0m\u001b[1;33m=\u001b[0m\u001b[1;34m\"Confirmed\"\u001b[0m\u001b[1;33m,\u001b[0m\u001b[1;33m\u001b[0m\u001b[1;33m\u001b[0m\u001b[0m\n\u001b[0;32m      5\u001b[0m                     \u001b[0mhover_name\u001b[0m\u001b[1;33m=\u001b[0m\u001b[1;34m\"Country/Region\"\u001b[0m\u001b[1;33m,\u001b[0m \u001b[0mrange_color\u001b[0m\u001b[1;33m=\u001b[0m\u001b[1;33m[\u001b[0m\u001b[1;36m1\u001b[0m\u001b[1;33m,\u001b[0m\u001b[1;36m7000\u001b[0m\u001b[1;33m]\u001b[0m\u001b[1;33m,\u001b[0m\u001b[1;33m\u001b[0m\u001b[1;33m\u001b[0m\u001b[0m\n",
      "\u001b[1;31mNameError\u001b[0m: name 'full_latest_grouped' is not defined"
     ]
    }
   ],
   "source": [
    "# Confirmed\n",
    "\n",
    "fig = px.choropleth(full_latest_grouped, locations=\"Country/Region\", \n",
    "                    locationmode='country names', color=\"Confirmed\", \n",
    "                    hover_name=\"Country/Region\", range_color=[1,7000], \n",
    "                    color_continuous_scale=\"aggrnyl\", \n",
    "                    title='Countries with Confirmed Cases')\n",
    "fig.update(layout_coloraxis_showscale=False)\n",
    "fig.show()"
   ]
  },
  {
   "cell_type": "code",
   "execution_count": 16,
   "metadata": {
    "_kg_hide-input": true,
    "colab": {},
    "colab_type": "code",
    "id": "SPyMZZrrsF1t"
   },
   "outputs": [
    {
     "ename": "NameError",
     "evalue": "name 'full_latest_grouped' is not defined",
     "output_type": "error",
     "traceback": [
      "\u001b[1;31m---------------------------------------------------------------------------\u001b[0m",
      "\u001b[1;31mNameError\u001b[0m                                 Traceback (most recent call last)",
      "\u001b[1;32m<ipython-input-16-e1ffb7bf770b>\u001b[0m in \u001b[0;36m<module>\u001b[1;34m\u001b[0m\n\u001b[0;32m      1\u001b[0m \u001b[1;31m# Deaths\u001b[0m\u001b[1;33m\u001b[0m\u001b[1;33m\u001b[0m\u001b[1;33m\u001b[0m\u001b[0m\n\u001b[0;32m      2\u001b[0m \u001b[1;33m\u001b[0m\u001b[0m\n\u001b[1;32m----> 3\u001b[1;33m fig = px.choropleth(full_latest_grouped[full_latest_grouped['Deaths']>0], \n\u001b[0m\u001b[0;32m      4\u001b[0m                     \u001b[0mlocations\u001b[0m\u001b[1;33m=\u001b[0m\u001b[1;34m\"Country/Region\"\u001b[0m\u001b[1;33m,\u001b[0m \u001b[0mlocationmode\u001b[0m\u001b[1;33m=\u001b[0m\u001b[1;34m'country names'\u001b[0m\u001b[1;33m,\u001b[0m\u001b[1;33m\u001b[0m\u001b[1;33m\u001b[0m\u001b[0m\n\u001b[0;32m      5\u001b[0m                     \u001b[0mcolor\u001b[0m\u001b[1;33m=\u001b[0m\u001b[1;34m\"Deaths\"\u001b[0m\u001b[1;33m,\u001b[0m \u001b[0mhover_name\u001b[0m\u001b[1;33m=\u001b[0m\u001b[1;34m\"Country/Region\"\u001b[0m\u001b[1;33m,\u001b[0m\u001b[1;33m\u001b[0m\u001b[1;33m\u001b[0m\u001b[0m\n",
      "\u001b[1;31mNameError\u001b[0m: name 'full_latest_grouped' is not defined"
     ]
    }
   ],
   "source": [
    "# Deaths\n",
    "\n",
    "fig = px.choropleth(full_latest_grouped[full_latest_grouped['Deaths']>0], \n",
    "                    locations=\"Country/Region\", locationmode='country names',\n",
    "                    color=\"Deaths\", hover_name=\"Country/Region\", \n",
    "                    range_color=[1,50], color_continuous_scale=\"agsunset\",\n",
    "                    title='Countries with Deaths Reported')\n",
    "fig.update(layout_coloraxis_showscale=False)\n",
    "fig.show()"
   ]
  },
  {
   "cell_type": "code",
   "execution_count": 17,
   "metadata": {
    "_kg_hide-input": true,
    "colab": {},
    "colab_type": "code",
    "id": "EHTotdfNsF1y"
   },
   "outputs": [],
   "source": [
    "# # China\n",
    "\n",
    "# clg = china_latest_grouped.iloc[:, :].copy()\n",
    "\n",
    "# name = {'Inner Mongolia': 'Inner Mongol',\n",
    "#         'Tibet': 'Xizang'}\n",
    "# clg.loc[:, 'Province/State'] = clg.loc[: 'Province/State'].replace(name)\n",
    "\n",
    "# with urlopen('https://raw.githubusercontent.com/yg2619/Choropleth-Maps-in-Python-Using-Plotly/master/china_geojson.json') as file:\n",
    "#     china_json = json.load(file)\n",
    "\n",
    "# fig = go.Figure(go.Choroplethmapbox(geojson=china_json, locations=clg['Province/State'], \n",
    "#                                     z=china_latest_grouped['Confirmed'], colorscale='Viridis', zmin=0, zmax=1000,\n",
    "#                                     marker_opacity=0.8, marker_line_width=0))\n",
    "# fig.update_layout(mapbox_style=\"carto-positron\",\n",
    "#                   mapbox_zoom=3, mapbox_center = {\"lat\": 35.8617, \"lon\": 104.1954})\n",
    "# fig.update_layout(margin={\"r\":0,\"t\":0,\"l\":0,\"b\":0})\n",
    "# fig.update_layout(title='Confirmed Cases in Chinese Provincec')\n",
    "# fig.show()\n",
    "\n",
    "# -----------------------------------------------------------------------------------------------------------------\n",
    "\n",
    "# # US\n",
    "\n",
    "# temp = full_latest.loc[full_latest['Country/Region']=='US', ['Province/State', 'Confirmed']]\n",
    "# temp['State'] = temp.loc[:, 'Province/State'].str.split(', ').str[-1]\n",
    "# temp = temp.groupby('State')['Confirmed'].sum().reset_index()\n",
    "\n",
    "# df = pd.read_csv('https://raw.githubusercontent.com/plotly/datasets/master/2011_us_ag_exports.csv')\n",
    "\n",
    "# fig = go.Figure(go.Choropleth(locations=temp['State'], z = temp['Confirmed'].astype(float), \n",
    "#                               locationmode = 'USA-states', colorscale = 'Viridis'))\n",
    "# fig.update_layout(geo_scope='usa', title='Confirmed Cases in US States')\n",
    "# fig.show()"
   ]
  },
  {
   "cell_type": "code",
   "execution_count": 18,
   "metadata": {
    "colab": {},
    "colab_type": "code",
    "id": "U3xMXpXjsF15"
   },
   "outputs": [
    {
     "ename": "NameError",
     "evalue": "name 'full_table' is not defined",
     "output_type": "error",
     "traceback": [
      "\u001b[1;31m---------------------------------------------------------------------------\u001b[0m",
      "\u001b[1;31mNameError\u001b[0m                                 Traceback (most recent call last)",
      "\u001b[1;32m<ipython-input-18-5a8904c9882e>\u001b[0m in \u001b[0;36m<module>\u001b[1;34m\u001b[0m\n\u001b[1;32m----> 1\u001b[1;33m \u001b[0mformated_gdf\u001b[0m \u001b[1;33m=\u001b[0m \u001b[0mfull_table\u001b[0m\u001b[1;33m.\u001b[0m\u001b[0mgroupby\u001b[0m\u001b[1;33m(\u001b[0m\u001b[1;33m[\u001b[0m\u001b[1;34m'Date'\u001b[0m\u001b[1;33m,\u001b[0m \u001b[1;34m'Country/Region'\u001b[0m\u001b[1;33m]\u001b[0m\u001b[1;33m)\u001b[0m\u001b[1;33m[\u001b[0m\u001b[1;34m'Confirmed'\u001b[0m\u001b[1;33m,\u001b[0m \u001b[1;34m'Deaths'\u001b[0m\u001b[1;33m,\u001b[0m \u001b[1;34m'Recovered'\u001b[0m\u001b[1;33m]\u001b[0m\u001b[1;33m.\u001b[0m\u001b[0mmax\u001b[0m\u001b[1;33m(\u001b[0m\u001b[1;33m)\u001b[0m\u001b[1;33m\u001b[0m\u001b[1;33m\u001b[0m\u001b[0m\n\u001b[0m\u001b[0;32m      2\u001b[0m \u001b[0mformated_gdf\u001b[0m \u001b[1;33m=\u001b[0m \u001b[0mformated_gdf\u001b[0m\u001b[1;33m.\u001b[0m\u001b[0mreset_index\u001b[0m\u001b[1;33m(\u001b[0m\u001b[1;33m)\u001b[0m\u001b[1;33m\u001b[0m\u001b[1;33m\u001b[0m\u001b[0m\n\u001b[0;32m      3\u001b[0m \u001b[0mformated_gdf\u001b[0m\u001b[1;33m[\u001b[0m\u001b[1;34m'Date'\u001b[0m\u001b[1;33m]\u001b[0m \u001b[1;33m=\u001b[0m \u001b[0mpd\u001b[0m\u001b[1;33m.\u001b[0m\u001b[0mto_datetime\u001b[0m\u001b[1;33m(\u001b[0m\u001b[0mformated_gdf\u001b[0m\u001b[1;33m[\u001b[0m\u001b[1;34m'Date'\u001b[0m\u001b[1;33m]\u001b[0m\u001b[1;33m)\u001b[0m\u001b[1;33m\u001b[0m\u001b[1;33m\u001b[0m\u001b[0m\n\u001b[0;32m      4\u001b[0m \u001b[0mformated_gdf\u001b[0m\u001b[1;33m[\u001b[0m\u001b[1;34m'Date'\u001b[0m\u001b[1;33m]\u001b[0m \u001b[1;33m=\u001b[0m \u001b[0mformated_gdf\u001b[0m\u001b[1;33m[\u001b[0m\u001b[1;34m'Date'\u001b[0m\u001b[1;33m]\u001b[0m\u001b[1;33m.\u001b[0m\u001b[0mdt\u001b[0m\u001b[1;33m.\u001b[0m\u001b[0mstrftime\u001b[0m\u001b[1;33m(\u001b[0m\u001b[1;34m'%m/%d/%Y'\u001b[0m\u001b[1;33m)\u001b[0m\u001b[1;33m\u001b[0m\u001b[1;33m\u001b[0m\u001b[0m\n\u001b[0;32m      5\u001b[0m \u001b[0mformated_gdf\u001b[0m\u001b[1;33m[\u001b[0m\u001b[1;34m'size'\u001b[0m\u001b[1;33m]\u001b[0m \u001b[1;33m=\u001b[0m \u001b[0mformated_gdf\u001b[0m\u001b[1;33m[\u001b[0m\u001b[1;34m'Confirmed'\u001b[0m\u001b[1;33m]\u001b[0m\u001b[1;33m.\u001b[0m\u001b[0mpow\u001b[0m\u001b[1;33m(\u001b[0m\u001b[1;36m0.3\u001b[0m\u001b[1;33m)\u001b[0m\u001b[1;33m\u001b[0m\u001b[1;33m\u001b[0m\u001b[0m\n",
      "\u001b[1;31mNameError\u001b[0m: name 'full_table' is not defined"
     ]
    }
   ],
   "source": [
    "formated_gdf = full_table.groupby(['Date', 'Country/Region'])['Confirmed', 'Deaths', 'Recovered'].max()\n",
    "formated_gdf = formated_gdf.reset_index()\n",
    "formated_gdf['Date'] = pd.to_datetime(formated_gdf['Date'])\n",
    "formated_gdf['Date'] = formated_gdf['Date'].dt.strftime('%m/%d/%Y')\n",
    "formated_gdf['size'] = formated_gdf['Confirmed'].pow(0.3)\n",
    "\n",
    "fig = px.scatter_geo(formated_gdf, locations=\"Country/Region\", locationmode='country names', \n",
    "                     color=\"Confirmed\", size='size', hover_name=\"Country/Region\", \n",
    "                     range_color= [0, max(formated_gdf['Confirmed'])+2], \n",
    "                     projection=\"natural earth\", animation_frame=\"Date\", \n",
    "                     title='Spread over time')\n",
    "fig.update(layout_coloraxis_showscale=False)\n",
    "fig.show()"
   ]
  },
  {
   "cell_type": "markdown",
   "metadata": {
    "colab_type": "text",
    "id": "tljVp8qjsF1_"
   },
   "source": [
    "# Ships"
   ]
  },
  {
   "cell_type": "markdown",
   "metadata": {
    "colab_type": "text",
    "id": "my4e5Gx3sF2B"
   },
   "source": [
    "### Diamond Princess cruise ship\n",
    "\n",
    "* On *20 January 2020*, an 80-year-old passenger from Hong Kong embarked in **Yokohama**, later tested positive for COVID-19 on *1 February*.    \n",
    "* On *4 February*, the ship was in Japanese waters when **10 passengers were diagnosed with COVID-19**. \n",
    "* The **ship was quarantined** on *4 February 2020* in the **Port of Yokohama in Japan**. \n",
    ">* The infections included at least 138 from India (including 132 crew and 6 passengers), 35 Filipinos, \n",
    ">* 32 Canadians, 24 Australians, 13 Americans, 4 Indonesians, 4 Malaysians,and 2 Britons. \n",
    "\n",
    "* Home countries arranged to evacuate their citizens and quarantine them further in their own countries.\n",
    "* As of *5 March*, **at least 696** out of the 3,711 passengers and crew had **tested positive** for the virus.\n",
    "* As of *7 March*, there had been **at least 7 deaths**\n",
    "\n",
    "### Grand Princess Ship\n",
    "\n",
    "* Another **Grand-class ship owned by Princess Cruises**, also experienced an outbreak of the disease\n",
    "* **Two of its passengers** fell ill after a cruise **from San Francisco to Mexico** in February 2020, and one of them died"
   ]
  },
  {
   "cell_type": "code",
   "execution_count": 19,
   "metadata": {
    "_kg_hide-input": true,
    "colab": {},
    "colab_type": "code",
    "id": "JeNGzLgSsF2C"
   },
   "outputs": [
    {
     "ename": "NameError",
     "evalue": "name 'ship' is not defined",
     "output_type": "error",
     "traceback": [
      "\u001b[1;31m---------------------------------------------------------------------------\u001b[0m",
      "\u001b[1;31mNameError\u001b[0m                                 Traceback (most recent call last)",
      "\u001b[1;32m<ipython-input-19-b0645af4e6fc>\u001b[0m in \u001b[0;36m<module>\u001b[1;34m\u001b[0m\n\u001b[0;32m      1\u001b[0m \u001b[1;31m# Latest cases from the ships\u001b[0m\u001b[1;33m\u001b[0m\u001b[1;33m\u001b[0m\u001b[1;33m\u001b[0m\u001b[0m\n\u001b[1;32m----> 2\u001b[1;33m \u001b[0mtemp\u001b[0m \u001b[1;33m=\u001b[0m \u001b[0mship\u001b[0m\u001b[1;33m[\u001b[0m\u001b[0mship\u001b[0m\u001b[1;33m[\u001b[0m\u001b[1;34m'Date'\u001b[0m\u001b[1;33m]\u001b[0m\u001b[1;33m==\u001b[0m\u001b[0mmax\u001b[0m\u001b[1;33m(\u001b[0m\u001b[0mship\u001b[0m\u001b[1;33m[\u001b[0m\u001b[1;34m'Date'\u001b[0m\u001b[1;33m]\u001b[0m\u001b[1;33m)\u001b[0m\u001b[1;33m]\u001b[0m\u001b[1;33m\u001b[0m\u001b[1;33m\u001b[0m\u001b[0m\n\u001b[0m\u001b[0;32m      3\u001b[0m \u001b[0mtemp\u001b[0m \u001b[1;33m=\u001b[0m \u001b[0mtemp\u001b[0m\u001b[1;33m[\u001b[0m\u001b[1;33m[\u001b[0m\u001b[1;34m'Province/State'\u001b[0m\u001b[1;33m,\u001b[0m \u001b[1;34m'Confirmed'\u001b[0m\u001b[1;33m,\u001b[0m \u001b[1;34m'Deaths'\u001b[0m\u001b[1;33m,\u001b[0m \u001b[1;34m'Recovered'\u001b[0m\u001b[1;33m]\u001b[0m\u001b[1;33m]\u001b[0m\u001b[1;33m.\u001b[0m\u001b[0mreset_index\u001b[0m\u001b[1;33m(\u001b[0m\u001b[0mdrop\u001b[0m\u001b[1;33m=\u001b[0m\u001b[1;32mTrue\u001b[0m\u001b[1;33m)\u001b[0m\u001b[1;33m\u001b[0m\u001b[1;33m\u001b[0m\u001b[0m\n\u001b[0;32m      4\u001b[0m \u001b[0mtemp\u001b[0m\u001b[1;33m.\u001b[0m\u001b[0mstyle\u001b[0m\u001b[1;33m.\u001b[0m\u001b[0mbackground_gradient\u001b[0m\u001b[1;33m(\u001b[0m\u001b[0mcmap\u001b[0m\u001b[1;33m=\u001b[0m\u001b[1;34m'Pastel1_r'\u001b[0m\u001b[1;33m)\u001b[0m\u001b[1;33m\u001b[0m\u001b[1;33m\u001b[0m\u001b[0m\n",
      "\u001b[1;31mNameError\u001b[0m: name 'ship' is not defined"
     ]
    }
   ],
   "source": [
    "# Latest cases from the ships\n",
    "temp = ship[ship['Date']==max(ship['Date'])]\n",
    "temp = temp[['Province/State', 'Confirmed', 'Deaths', 'Recovered']].reset_index(drop=True)\n",
    "temp.style.background_gradient(cmap='Pastel1_r')"
   ]
  },
  {
   "cell_type": "code",
   "execution_count": 20,
   "metadata": {
    "_kg_hide-input": true,
    "colab": {},
    "colab_type": "code",
    "id": "Ig07FBb0sF2I"
   },
   "outputs": [
    {
     "ename": "NameError",
     "evalue": "name 'ship' is not defined",
     "output_type": "error",
     "traceback": [
      "\u001b[1;31m---------------------------------------------------------------------------\u001b[0m",
      "\u001b[1;31mNameError\u001b[0m                                 Traceback (most recent call last)",
      "\u001b[1;32m<ipython-input-20-8576f460d387>\u001b[0m in \u001b[0;36m<module>\u001b[1;34m\u001b[0m\n\u001b[1;32m----> 1\u001b[1;33m \u001b[0mtemp\u001b[0m \u001b[1;33m=\u001b[0m \u001b[0mship\u001b[0m\u001b[1;33m[\u001b[0m\u001b[0mship\u001b[0m\u001b[1;33m[\u001b[0m\u001b[1;34m'Date'\u001b[0m\u001b[1;33m]\u001b[0m\u001b[1;33m==\u001b[0m\u001b[0mmax\u001b[0m\u001b[1;33m(\u001b[0m\u001b[0mship\u001b[0m\u001b[1;33m[\u001b[0m\u001b[1;34m'Date'\u001b[0m\u001b[1;33m]\u001b[0m\u001b[1;33m)\u001b[0m\u001b[1;33m]\u001b[0m\u001b[1;33m\u001b[0m\u001b[1;33m\u001b[0m\u001b[0m\n\u001b[0m\u001b[0;32m      2\u001b[0m \u001b[1;33m\u001b[0m\u001b[0m\n\u001b[0;32m      3\u001b[0m m = folium.Map(location=[0, 0], tiles='cartodbpositron',\n\u001b[0;32m      4\u001b[0m                min_zoom=1, max_zoom=4, zoom_start=1)\n\u001b[0;32m      5\u001b[0m \u001b[1;33m\u001b[0m\u001b[0m\n",
      "\u001b[1;31mNameError\u001b[0m: name 'ship' is not defined"
     ]
    }
   ],
   "source": [
    "temp = ship[ship['Date']==max(ship['Date'])]\n",
    "\n",
    "m = folium.Map(location=[0, 0], tiles='cartodbpositron',\n",
    "               min_zoom=1, max_zoom=4, zoom_start=1)\n",
    "\n",
    "for i in range(0, len(temp)):\n",
    "    folium.Circle(\n",
    "        location=[temp.iloc[i]['Lat'], temp.iloc[i]['Long']],\n",
    "        color='crimson', \n",
    "        tooltip =   '<li><bold>Country : '+str(temp.iloc[i]['Country/Region'])+\n",
    "                    '<li><bold>Province : '+str(temp.iloc[i]['Province/State'])+\n",
    "                    '<li><bold>Confirmed : '+str(temp.iloc[i]['Confirmed'])+\n",
    "                    '<li><bold>Deaths : '+str(temp.iloc[i]['Deaths'])+\n",
    "                    '<li><bold>Recovered : '+str(temp.iloc[i]['Recovered']),\n",
    "        radius=100000).add_to(m)\n",
    "m"
   ]
  },
  {
   "cell_type": "markdown",
   "metadata": {
    "colab_type": "text",
    "id": "a2LT6QtxsF2L"
   },
   "source": [
    "# Cases over the time"
   ]
  },
  {
   "cell_type": "code",
   "execution_count": 24,
   "metadata": {
    "_kg_hide-input": true,
    "colab": {},
    "colab_type": "code",
    "id": "PUajHOpssF2M"
   },
   "outputs": [
    {
     "ename": "NameError",
     "evalue": "name 'full_table' is not defined",
     "output_type": "error",
     "traceback": [
      "\u001b[1;31m---------------------------------------------------------------------------\u001b[0m",
      "\u001b[1;31mNameError\u001b[0m                                 Traceback (most recent call last)",
      "\u001b[1;32m<ipython-input-24-a95794f88f4c>\u001b[0m in \u001b[0;36m<module>\u001b[1;34m\u001b[0m\n\u001b[1;32m----> 1\u001b[1;33m \u001b[0mtemp\u001b[0m \u001b[1;33m=\u001b[0m \u001b[0mfull_table\u001b[0m\u001b[1;33m.\u001b[0m\u001b[0mgroupby\u001b[0m\u001b[1;33m(\u001b[0m\u001b[1;34m'Date'\u001b[0m\u001b[1;33m)\u001b[0m\u001b[1;33m[\u001b[0m\u001b[1;34m'Recovered'\u001b[0m\u001b[1;33m,\u001b[0m \u001b[1;34m'Deaths'\u001b[0m\u001b[1;33m,\u001b[0m \u001b[1;34m'Active'\u001b[0m\u001b[1;33m]\u001b[0m\u001b[1;33m.\u001b[0m\u001b[0msum\u001b[0m\u001b[1;33m(\u001b[0m\u001b[1;33m)\u001b[0m\u001b[1;33m.\u001b[0m\u001b[0mreset_index\u001b[0m\u001b[1;33m(\u001b[0m\u001b[1;33m)\u001b[0m\u001b[1;33m\u001b[0m\u001b[1;33m\u001b[0m\u001b[0m\n\u001b[0m\u001b[0;32m      2\u001b[0m temp = temp.melt(id_vars=\"Date\", value_vars=['Recovered', 'Deaths', 'Active'],\n\u001b[0;32m      3\u001b[0m                  var_name='Case', value_name='Count')\n\u001b[0;32m      4\u001b[0m \u001b[0mtemp\u001b[0m\u001b[1;33m.\u001b[0m\u001b[0mhead\u001b[0m\u001b[1;33m(\u001b[0m\u001b[1;33m)\u001b[0m\u001b[1;33m\u001b[0m\u001b[1;33m\u001b[0m\u001b[0m\n\u001b[0;32m      5\u001b[0m \u001b[1;33m\u001b[0m\u001b[0m\n",
      "\u001b[1;31mNameError\u001b[0m: name 'full_table' is not defined"
     ]
    }
   ],
   "source": [
    "temp = full_table.groupby('Date')['Recovered', 'Deaths', 'Active'].sum().reset_index()\n",
    "temp = temp.melt(id_vars=\"Date\", value_vars=['Recovered', 'Deaths', 'Active'],\n",
    "                 var_name='Case', value_name='Count')\n",
    "temp.head()\n",
    "\n",
    "fig = px.area(temp, x=\"Date\", y=\"Count\", color='Case',\n",
    "             title='Cases over time', color_discrete_sequence = [rec, dth, act])\n",
    "fig.show()"
   ]
  },
  {
   "cell_type": "markdown",
   "metadata": {
    "colab_type": "text",
    "id": "lrkSZfH8sF2Q"
   },
   "source": [
    "# Recovery and mortality rate over time"
   ]
  },
  {
   "cell_type": "code",
   "execution_count": 22,
   "metadata": {
    "_kg_hide-input": true,
    "colab": {},
    "colab_type": "code",
    "id": "GgtnOAGAsF2S"
   },
   "outputs": [
    {
     "ename": "NameError",
     "evalue": "name 'full_table' is not defined",
     "output_type": "error",
     "traceback": [
      "\u001b[1;31m---------------------------------------------------------------------------\u001b[0m",
      "\u001b[1;31mNameError\u001b[0m                                 Traceback (most recent call last)",
      "\u001b[1;32m<ipython-input-22-efd386b2f88e>\u001b[0m in \u001b[0;36m<module>\u001b[1;34m\u001b[0m\n\u001b[1;32m----> 1\u001b[1;33m \u001b[0mtemp\u001b[0m \u001b[1;33m=\u001b[0m \u001b[0mfull_table\u001b[0m\u001b[1;33m.\u001b[0m\u001b[0mgroupby\u001b[0m\u001b[1;33m(\u001b[0m\u001b[1;34m'Date'\u001b[0m\u001b[1;33m)\u001b[0m\u001b[1;33m.\u001b[0m\u001b[0msum\u001b[0m\u001b[1;33m(\u001b[0m\u001b[1;33m)\u001b[0m\u001b[1;33m.\u001b[0m\u001b[0mreset_index\u001b[0m\u001b[1;33m(\u001b[0m\u001b[1;33m)\u001b[0m\u001b[1;33m\u001b[0m\u001b[1;33m\u001b[0m\u001b[0m\n\u001b[0m\u001b[0;32m      2\u001b[0m \u001b[1;33m\u001b[0m\u001b[0m\n\u001b[0;32m      3\u001b[0m \u001b[1;31m# adding two more columns\u001b[0m\u001b[1;33m\u001b[0m\u001b[1;33m\u001b[0m\u001b[1;33m\u001b[0m\u001b[0m\n\u001b[0;32m      4\u001b[0m \u001b[0mtemp\u001b[0m\u001b[1;33m[\u001b[0m\u001b[1;34m'No. of Deaths to 100 Confirmed Cases'\u001b[0m\u001b[1;33m]\u001b[0m \u001b[1;33m=\u001b[0m \u001b[0mround\u001b[0m\u001b[1;33m(\u001b[0m\u001b[0mtemp\u001b[0m\u001b[1;33m[\u001b[0m\u001b[1;34m'Deaths'\u001b[0m\u001b[1;33m]\u001b[0m\u001b[1;33m/\u001b[0m\u001b[0mtemp\u001b[0m\u001b[1;33m[\u001b[0m\u001b[1;34m'Confirmed'\u001b[0m\u001b[1;33m]\u001b[0m\u001b[1;33m,\u001b[0m \u001b[1;36m3\u001b[0m\u001b[1;33m)\u001b[0m\u001b[1;33m*\u001b[0m\u001b[1;36m100\u001b[0m\u001b[1;33m\u001b[0m\u001b[1;33m\u001b[0m\u001b[0m\n\u001b[0;32m      5\u001b[0m \u001b[0mtemp\u001b[0m\u001b[1;33m[\u001b[0m\u001b[1;34m'No. of Recovered to 100 Confirmed Cases'\u001b[0m\u001b[1;33m]\u001b[0m \u001b[1;33m=\u001b[0m \u001b[0mround\u001b[0m\u001b[1;33m(\u001b[0m\u001b[0mtemp\u001b[0m\u001b[1;33m[\u001b[0m\u001b[1;34m'Recovered'\u001b[0m\u001b[1;33m]\u001b[0m\u001b[1;33m/\u001b[0m\u001b[0mtemp\u001b[0m\u001b[1;33m[\u001b[0m\u001b[1;34m'Confirmed'\u001b[0m\u001b[1;33m]\u001b[0m\u001b[1;33m,\u001b[0m \u001b[1;36m3\u001b[0m\u001b[1;33m)\u001b[0m\u001b[1;33m*\u001b[0m\u001b[1;36m100\u001b[0m\u001b[1;33m\u001b[0m\u001b[1;33m\u001b[0m\u001b[0m\n",
      "\u001b[1;31mNameError\u001b[0m: name 'full_table' is not defined"
     ]
    }
   ],
   "source": [
    "temp = full_table.groupby('Date').sum().reset_index()\n",
    "\n",
    "# adding two more columns\n",
    "temp['No. of Deaths to 100 Confirmed Cases'] = round(temp['Deaths']/temp['Confirmed'], 3)*100\n",
    "temp['No. of Recovered to 100 Confirmed Cases'] = round(temp['Recovered']/temp['Confirmed'], 3)*100\n",
    "# temp['No. of Recovered to 1 Death Case'] = round(temp['Recovered']/temp['Deaths'], 3)\n",
    "\n",
    "temp = temp.melt(id_vars='Date', value_vars=['No. of Deaths to 100 Confirmed Cases', 'No. of Recovered to 100 Confirmed Cases'], \n",
    "                 var_name='Ratio', value_name='Value')\n",
    "\n",
    "fig = px.line(temp, x=\"Date\", y=\"Value\", color='Ratio', log_y=True, \n",
    "              title='Recovery and Mortality Rate Over The Time', color_discrete_sequence=[dth, rec])\n",
    "fig.show()"
   ]
  },
  {
   "cell_type": "markdown",
   "metadata": {
    "colab_type": "text",
    "id": "82VfvprysF2d"
   },
   "source": [
    "# No. of places to which COVID-19 spread"
   ]
  },
  {
   "cell_type": "code",
   "execution_count": 23,
   "metadata": {
    "_kg_hide-input": true,
    "colab": {},
    "colab_type": "code",
    "id": "H94rZ6IJsF2i"
   },
   "outputs": [
    {
     "ename": "NameError",
     "evalue": "name 'china' is not defined",
     "output_type": "error",
     "traceback": [
      "\u001b[1;31m---------------------------------------------------------------------------\u001b[0m",
      "\u001b[1;31mNameError\u001b[0m                                 Traceback (most recent call last)",
      "\u001b[1;32m<ipython-input-23-c242e046563e>\u001b[0m in \u001b[0;36m<module>\u001b[1;34m\u001b[0m\n\u001b[1;32m----> 1\u001b[1;33m \u001b[0mc_spread\u001b[0m \u001b[1;33m=\u001b[0m \u001b[0mchina\u001b[0m\u001b[1;33m[\u001b[0m\u001b[0mchina\u001b[0m\u001b[1;33m[\u001b[0m\u001b[1;34m'Confirmed'\u001b[0m\u001b[1;33m]\u001b[0m\u001b[1;33m!=\u001b[0m\u001b[1;36m0\u001b[0m\u001b[1;33m]\u001b[0m\u001b[1;33m.\u001b[0m\u001b[0mgroupby\u001b[0m\u001b[1;33m(\u001b[0m\u001b[1;34m'Date'\u001b[0m\u001b[1;33m)\u001b[0m\u001b[1;33m[\u001b[0m\u001b[1;34m'Province/State'\u001b[0m\u001b[1;33m]\u001b[0m\u001b[1;33m.\u001b[0m\u001b[0munique\u001b[0m\u001b[1;33m(\u001b[0m\u001b[1;33m)\u001b[0m\u001b[1;33m.\u001b[0m\u001b[0mapply\u001b[0m\u001b[1;33m(\u001b[0m\u001b[0mlen\u001b[0m\u001b[1;33m)\u001b[0m\u001b[1;33m\u001b[0m\u001b[1;33m\u001b[0m\u001b[0m\n\u001b[0m\u001b[0;32m      2\u001b[0m \u001b[0mc_spread\u001b[0m \u001b[1;33m=\u001b[0m \u001b[0mpd\u001b[0m\u001b[1;33m.\u001b[0m\u001b[0mDataFrame\u001b[0m\u001b[1;33m(\u001b[0m\u001b[0mc_spread\u001b[0m\u001b[1;33m)\u001b[0m\u001b[1;33m.\u001b[0m\u001b[0mreset_index\u001b[0m\u001b[1;33m(\u001b[0m\u001b[1;33m)\u001b[0m\u001b[1;33m\u001b[0m\u001b[1;33m\u001b[0m\u001b[0m\n\u001b[0;32m      3\u001b[0m \u001b[1;33m\u001b[0m\u001b[0m\n\u001b[0;32m      4\u001b[0m fig = px.line(c_spread, x='Date', y='Province/State', text='Province/State',\n\u001b[0;32m      5\u001b[0m               \u001b[0mtitle\u001b[0m\u001b[1;33m=\u001b[0m\u001b[1;34m'Number of Provinces/States/Regions of China to which COVID-19 spread over the time'\u001b[0m\u001b[1;33m,\u001b[0m\u001b[1;33m\u001b[0m\u001b[1;33m\u001b[0m\u001b[0m\n",
      "\u001b[1;31mNameError\u001b[0m: name 'china' is not defined"
     ]
    }
   ],
   "source": [
    "c_spread = china[china['Confirmed']!=0].groupby('Date')['Province/State'].unique().apply(len)\n",
    "c_spread = pd.DataFrame(c_spread).reset_index()\n",
    "\n",
    "fig = px.line(c_spread, x='Date', y='Province/State', text='Province/State',\n",
    "              title='Number of Provinces/States/Regions of China to which COVID-19 spread over the time',\n",
    "             color_discrete_sequence=[cnf,dth, rec])\n",
    "fig.update_traces(textposition='top center')\n",
    "fig.show()\n",
    "\n",
    "# ------------------------------------------------------------------------------------------\n",
    "\n",
    "spread = full_table[full_table['Confirmed']!=0].groupby('Date')['Country/Region'].unique().apply(len)\n",
    "spread = pd.DataFrame(spread).reset_index()\n",
    "\n",
    "fig = px.line(spread, x='Date', y='Country/Region', text='Country/Region',\n",
    "              title='Number of Countries/Regions to which COVID-19 spread over the time',\n",
    "             color_discrete_sequence=[cnf,dth, rec])\n",
    "fig.update_traces(textposition='top center')\n",
    "fig.show()"
   ]
  },
  {
   "cell_type": "markdown",
   "metadata": {
    "colab_type": "text",
    "id": "GkgODO-usF2u"
   },
   "source": [
    "# Top 20 Countries"
   ]
  },
  {
   "cell_type": "code",
   "execution_count": 0,
   "metadata": {
    "_kg_hide-input": true,
    "_kg_hide-output": true,
    "colab": {},
    "colab_type": "code",
    "id": "jBfDh7CvsF2v"
   },
   "outputs": [],
   "source": [
    "flg = full_latest_grouped\n",
    "flg.head()"
   ]
  },
  {
   "cell_type": "code",
   "execution_count": 0,
   "metadata": {
    "_kg_hide-input": true,
    "colab": {},
    "colab_type": "code",
    "id": "BVeh2jilsF20"
   },
   "outputs": [],
   "source": [
    "fig = px.bar(flg.sort_values('Confirmed', ascending=False).head(20).sort_values('Confirmed', ascending=True), \n",
    "             x=\"Confirmed\", y=\"Country/Region\", title='Confirmed Cases', text='Confirmed', orientation='h', \n",
    "             width=700, height=700, range_x = [0, max(flg['Confirmed'])+10000])\n",
    "fig.update_traces(marker_color=cnf, opacity=0.6, textposition='outside')\n",
    "fig.show()"
   ]
  },
  {
   "cell_type": "code",
   "execution_count": 0,
   "metadata": {
    "_kg_hide-input": true,
    "colab": {},
    "colab_type": "code",
    "id": "7aStlhKBsF27"
   },
   "outputs": [],
   "source": [
    "fig = px.bar(flg.sort_values('Deaths', ascending=False).head(20).sort_values('Deaths', ascending=True), \n",
    "             x=\"Deaths\", y=\"Country/Region\", title='Deaths', text='Deaths', orientation='h', \n",
    "             width=700, height=700, range_x = [0, max(flg['Deaths'])+500])\n",
    "fig.update_traces(marker_color=dth, opacity=0.6, textposition='outside')\n",
    "fig.show()"
   ]
  },
  {
   "cell_type": "code",
   "execution_count": 0,
   "metadata": {
    "_kg_hide-input": true,
    "colab": {},
    "colab_type": "code",
    "id": "Vpfj_GpnsF3C"
   },
   "outputs": [],
   "source": [
    "fig = px.bar(flg.sort_values('Recovered', ascending=False).head(20).sort_values('Recovered', ascending=True), \n",
    "             x=\"Recovered\", y=\"Country/Region\", title='Recovered', text='Recovered', orientation='h', \n",
    "             width=700, height=700, range_x = [0, max(flg['Recovered'])+10000])\n",
    "fig.update_traces(marker_color=rec, opacity=0.6, textposition='outside')\n",
    "fig.show()"
   ]
  },
  {
   "cell_type": "code",
   "execution_count": 0,
   "metadata": {
    "_kg_hide-input": true,
    "colab": {},
    "colab_type": "code",
    "id": "FXvUz9zOsF3I"
   },
   "outputs": [],
   "source": [
    "fig = px.bar(flg.sort_values('Active', ascending=False).head(20).sort_values('Active', ascending=True), \n",
    "             x=\"Active\", y=\"Country/Region\", title='Active', text='Active', orientation='h', \n",
    "             width=700, height=700, range_x = [0, max(flg['Active'])+3000])\n",
    "fig.update_traces(marker_color=act, opacity=0.6, textposition='outside')\n",
    "fig.show()"
   ]
  },
  {
   "cell_type": "code",
   "execution_count": 0,
   "metadata": {
    "_kg_hide-input": true,
    "colab": {},
    "colab_type": "code",
    "id": "ir4WATiLsF3P"
   },
   "outputs": [],
   "source": [
    "# (Only countries with more than 100 case are considered)\n",
    "\n",
    "flg['Mortality Rate'] = round((flg['Deaths']/flg['Confirmed'])*100, 2)\n",
    "temp = flg[flg['Confirmed']>100]\n",
    "temp = temp.sort_values('Mortality Rate', ascending=False)\n",
    "\n",
    "fig = px.bar(temp.sort_values('Mortality Rate', ascending=False).head(15).sort_values('Mortality Rate', ascending=True), \n",
    "             x=\"Mortality Rate\", y=\"Country/Region\", text='Mortality Rate', orientation='h', \n",
    "             width=700, height=600, range_x = [0, 8], title='No. of Deaths Per 100 Confirmed Case')\n",
    "fig.update_traces(marker_color=act, opacity=0.6, textposition='outside')\n",
    "fig.show()"
   ]
  },
  {
   "cell_type": "code",
   "execution_count": 0,
   "metadata": {
    "_kg_hide-input": true,
    "colab": {},
    "colab_type": "code",
    "id": "aoD-zfp9sF3W"
   },
   "outputs": [],
   "source": [
    "# load population dataset\n",
    "pop_clean_data = pd.read_csv(\"http://chendeb.free.fr/population_clean.csv\")\n",
    "\n",
    "# select only the latest data\n",
    "pop = pop_clean_data.loc[:, ['Country Name', '2018']]\n",
    "\n",
    "# substitute for missing values\n",
    "cols = ['French Guiana', 'Martinique', 'Palestine' , 'Republic of Ireland', 'Saint Barthelemy', 'Taiwan', 'Vatican City']\n",
    "pops = [290691, 376480, 4750000, 4920455, 7122, 23476640, 1000]\n",
    "for c, p in zip(cols, pops):\n",
    "    temp.loc[temp['Country/Region']== c, 'Population'] = p\n",
    "\n",
    "# replace country names \n",
    "name = {\n",
    "    'Egypt, Arab Rep.': 'Egypt',\n",
    "    'Hong Kong SAR, China': 'Hong Kong',\n",
    "    'Iran, Islamic Rep.': 'Iran (Islamic Republic of)',\n",
    "    'Macao SAR, China': 'Macau',\n",
    "    'Hong Kong SAR': 'Hong Kong',\n",
    "    'Russian Federation': 'Russia',\n",
    "    'Slovak Republic': 'Slovakia',\n",
    "    'Korea, Rep.': 'Republic of Korea',\n",
    "    'United Kingdom': 'UK',\n",
    "    'United States': 'US' }\n",
    "pop.loc[:, 'Country Name'] = pop.loc[: 'Country Name'].replace(name)\n",
    "\n",
    "# merge dataframes\n",
    "temp = pd.merge(full_latest_grouped, pop, how='left', right_on='Country Name', left_on='Country/Region')\n",
    "# print(temp[temp['Country Name'].isna()])\n",
    "\n",
    "temp = temp[['Country/Region', 'Confirmed', 'Deaths', 'Recovered', 'Active', '2018']]\n",
    "temp.columns = ['Country/Region', 'Confirmed', 'Deaths', 'Recovered', 'Active', 'Population']\n",
    "    \n",
    "# calculate Confirmed/Population\n",
    "temp['Confirmed Per Million People'] = round(temp['Confirmed']/temp['Population']*1000000, 2)\n",
    "\n",
    "# countries with population greater that 1 million only\n",
    "temp = temp[temp['Population']>1000000].sort_values('Confirmed Per Million People', ascending=False).reset_index(drop=True)\n",
    "# temp.head()\n",
    "\n",
    "fig = px.bar(temp.head(20).sort_values('Confirmed Per Million People', ascending=True), \n",
    "             x='Confirmed Per Million People', y='Country/Region', orientation='h', \n",
    "             width=700, height=700, text='Confirmed Per Million People', title='Confirmed cases Per Million People',\n",
    "             range_x = [0, max(temp['Confirmed Per Million People'])+20])\n",
    "fig.update_traces(textposition='outside', marker_color=dth, opacity=0.7)\n",
    "fig.update_layout(uniformtext_minsize=8, uniformtext_mode='hide')\n",
    "fig.show()"
   ]
  },
  {
   "cell_type": "markdown",
   "metadata": {
    "colab_type": "text",
    "id": "sN0scYQ1sF3a"
   },
   "source": [
    "# Date vs"
   ]
  },
  {
   "cell_type": "code",
   "execution_count": 0,
   "metadata": {
    "_kg_hide-input": true,
    "colab": {},
    "colab_type": "code",
    "id": "A-7g4oVcsF3c"
   },
   "outputs": [],
   "source": [
    "temp = full_table.groupby(['Country/Region', 'Date'])['Confirmed', 'Deaths', 'Recovered'].sum()\n",
    "temp = temp.reset_index()\n",
    "\n",
    "fig = px.bar(temp, x=\"Date\", y=\"Confirmed\", color='Country/Region', orientation='v', height=600,\n",
    "             title='Confirmed', color_discrete_sequence = px.colors.cyclical.mygbm)\n",
    "fig.show()"
   ]
  },
  {
   "cell_type": "code",
   "execution_count": 0,
   "metadata": {
    "_kg_hide-input": true,
    "colab": {},
    "colab_type": "code",
    "id": "Q_tCLYJesF3h"
   },
   "outputs": [],
   "source": [
    "fig = px.bar(temp, x=\"Date\", y=\"Deaths\", color='Country/Region', orientation='v', height=600,\n",
    "             title='Deaths', color_discrete_sequence = px.colors.cyclical.mygbm)\n",
    "fig.show()"
   ]
  },
  {
   "cell_type": "code",
   "execution_count": 0,
   "metadata": {
    "_kg_hide-input": true,
    "colab": {},
    "colab_type": "code",
    "id": "YscmUaj7sF3q"
   },
   "outputs": [],
   "source": [
    "temp = full_table.groupby(['Country/Region', 'Date', ])['Confirmed', 'Deaths', 'Recovered']\n",
    "temp = temp.sum().diff().reset_index()\n",
    "\n",
    "mask = temp['Country/Region'] != temp['Country/Region'].shift(1)\n",
    "\n",
    "temp.loc[mask, 'Confirmed'] = np.nan\n",
    "temp.loc[mask, 'Deaths'] = np.nan\n",
    "temp.loc[mask, 'Recovered'] = np.nan\n",
    "\n",
    "fig = px.bar(temp, x=\"Date\", y=\"Confirmed\", color='Country/Region',title='New cases')\n",
    "fig.show()"
   ]
  },
  {
   "cell_type": "code",
   "execution_count": 0,
   "metadata": {
    "_kg_hide-input": true,
    "colab": {},
    "colab_type": "code",
    "id": "FNVeZrwIsF3u"
   },
   "outputs": [],
   "source": [
    "temp = full_table.groupby(['Date', 'Country/Region'])['Confirmed'].sum().reset_index()\n",
    "# temp['Date'] = temp['Date'].dt.strftime('%Y-%m-%d')\n",
    "temp = temp.sort_values(by='Date')\n",
    "temp['Date'] = temp['Date'].apply(lambda x: x.date()).apply(str)\n",
    "temp.head()\n",
    "\n",
    "fig = px.bar(temp, y='Country/Region', x='Confirmed', color='Country/Region', orientation='h',  \n",
    "             title='Over time', animation_frame='Date', height=1000, \n",
    "             range_x=[0, 90000], log_x=True)\n",
    "# fig.update_traces(textposition='outside')\n",
    "# fig.update_layout(uniformtext_minsize=8, uniformtext_mode='hide')\n",
    "# fig.update_layout(yaxis={'categoryorder':'array', \n",
    "#                          'categoryarray':['Hubei','Other Chinese Provinces','Rest of the World']})\n",
    "fig.show()"
   ]
  },
  {
   "cell_type": "code",
   "execution_count": 0,
   "metadata": {
    "_kg_hide-input": true,
    "colab": {},
    "colab_type": "code",
    "id": "4pmN4knwsF3x"
   },
   "outputs": [],
   "source": [
    "px.line(temp, x=\"Date\", y=\"Confirmed\", color='Country/Region', title='Cases Spread', height=600)"
   ]
  },
  {
   "cell_type": "markdown",
   "metadata": {
    "colab_type": "text",
    "id": "oJWVjaJfsF31"
   },
   "source": [
    "# Composition of Cases"
   ]
  },
  {
   "cell_type": "code",
   "execution_count": 0,
   "metadata": {
    "_kg_hide-input": true,
    "colab": {},
    "colab_type": "code",
    "id": "PdnFJTJYsF33"
   },
   "outputs": [],
   "source": [
    "fig = px.treemap(full_latest.sort_values(by='Confirmed', ascending=False).reset_index(drop=True), \n",
    "                 path=[\"Country/Region\", \"Province/State\"], values=\"Confirmed\", height=700,\n",
    "                 title='Number of Confirmed Cases',\n",
    "                 color_discrete_sequence = px.colors.qualitative.Prism)\n",
    "fig.data[0].textinfo = 'label+text+value'\n",
    "fig.show()\n",
    "\n",
    "fig = px.treemap(full_latest.sort_values(by='Deaths', ascending=False).reset_index(drop=True), \n",
    "                 path=[\"Country/Region\", \"Province/State\"], values=\"Deaths\", height=700,\n",
    "                 title='Number of Deaths reported',\n",
    "                 color_discrete_sequence = px.colors.qualitative.Prism)\n",
    "fig.data[0].textinfo = 'label+text+value'\n",
    "fig.show()"
   ]
  },
  {
   "cell_type": "markdown",
   "metadata": {
    "colab_type": "text",
    "id": "qmsN_hMOsF36"
   },
   "source": [
    "# Epidemic Span"
   ]
  },
  {
   "cell_type": "markdown",
   "metadata": {
    "colab_type": "text",
    "id": "rm8htFDesF38"
   },
   "source": [
    "Note : In the graph, last day is shown as one day after the last time a new confirmed cases reported in the Country / Region"
   ]
  },
  {
   "cell_type": "code",
   "execution_count": 0,
   "metadata": {
    "_kg_hide-input": true,
    "colab": {},
    "colab_type": "code",
    "id": "m7bEEP5nsF39"
   },
   "outputs": [],
   "source": [
    "# first date\n",
    "# ----------\n",
    "first_date = full_table[full_table['Confirmed']>0]\n",
    "first_date = first_date.groupby('Country/Region')['Date'].agg(['min']).reset_index()\n",
    "# first_date.head()\n",
    "from datetime import timedelta  \n",
    "# last date\n",
    "# ---------\n",
    "last_date = full_table.groupby(['Country/Region', 'Date', ])['Confirmed', 'Deaths', 'Recovered']\n",
    "last_date = last_date.sum().diff().reset_index()\n",
    "\n",
    "mask = last_date['Country/Region'] != last_date['Country/Region'].shift(1)\n",
    "last_date.loc[mask, 'Confirmed'] = np.nan\n",
    "last_date.loc[mask, 'Deaths'] = np.nan\n",
    "last_date.loc[mask, 'Recovered'] = np.nan\n",
    "\n",
    "last_date = last_date[last_date['Confirmed']>0]\n",
    "last_date = last_date.groupby('Country/Region')['Date'].agg(['max']).reset_index()\n",
    "# last_date.head()\n",
    "\n",
    "# first_last\n",
    "# ----------\n",
    "first_last = pd.concat([first_date, last_date[['max']]], axis=1)\n",
    "\n",
    "# added 1 more day, which will show the next day as the day on which last case appeared\n",
    "first_last['max'] = first_last['max'] + timedelta(days=1)\n",
    "\n",
    "# no. of days\n",
    "first_last['Days'] = first_last['max'] - first_last['min']\n",
    "\n",
    "# task column as country\n",
    "first_last['Task'] = first_last['Country/Region']\n",
    "\n",
    "# rename columns\n",
    "first_last.columns = ['Country/Region', 'Start', 'Finish', 'Days', 'Task']\n",
    "\n",
    "# sort by no. of days\n",
    "first_last = first_last.sort_values('Days')\n",
    "# first_last.head()\n",
    "\n",
    "# visualization\n",
    "# --------------\n",
    "\n",
    "# produce random colors\n",
    "clr = [\"#\"+''.join([random.choice('0123456789ABC') for j in range(6)]) for i in range(len(first_last))]\n",
    "\n",
    "#plot\n",
    "fig = ff.create_gantt(first_last, index_col='Country/Region', colors=clr, show_colorbar=False, \n",
    "                      bar_width=0.2, showgrid_x=True, showgrid_y=True, height=1600, \n",
    "                      title=('Gantt Chart'))\n",
    "fig.show()"
   ]
  },
  {
   "cell_type": "markdown",
   "metadata": {
    "colab_type": "text",
    "id": "wWEN6N0CsF4A"
   },
   "source": [
    "# China vs ROW"
   ]
  },
  {
   "cell_type": "code",
   "execution_count": 0,
   "metadata": {
    "_kg_hide-input": true,
    "colab": {},
    "colab_type": "code",
    "id": "TaQvEXnvsF4G"
   },
   "outputs": [],
   "source": [
    "# In China\n",
    "temp = china.groupby('Date')['Confirmed', 'Deaths', 'Recovered'].sum().diff()\n",
    "temp = temp.reset_index()\n",
    "temp = temp.melt(id_vars=\"Date\", \n",
    "                 value_vars=['Confirmed', 'Deaths', 'Recovered'])\n",
    "\n",
    "fig = px.bar(temp, x=\"Date\", y=\"value\", color='variable', \n",
    "             title='In China',\n",
    "             color_discrete_sequence=[cnf, dth, rec])\n",
    "fig.update_layout(barmode='group')\n",
    "fig.show()\n",
    "\n",
    "#-----------------------------------------------------------------------------\n",
    "\n",
    "# ROW\n",
    "temp = row.groupby('Date')['Confirmed', 'Deaths', 'Recovered'].sum().diff()\n",
    "temp = temp.reset_index()\n",
    "temp = temp.melt(id_vars=\"Date\", \n",
    "                 value_vars=['Confirmed', 'Deaths', 'Recovered'])\n",
    "\n",
    "fig = px.bar(temp, x=\"Date\", y=\"value\", color='variable', \n",
    "             title='Outside China',\n",
    "             color_discrete_sequence=[cnf, dth, rec])\n",
    "fig.update_layout(barmode='group')\n",
    "fig.show()"
   ]
  },
  {
   "cell_type": "code",
   "execution_count": 0,
   "metadata": {
    "_kg_hide-input": true,
    "colab": {},
    "colab_type": "code",
    "id": "J3FGOnXXsF4L"
   },
   "outputs": [],
   "source": [
    "def from_china_or_not(row):\n",
    "    if row['Country/Region']=='China':\n",
    "        return 'From China'\n",
    "    else:\n",
    "        return 'Outside China'\n",
    "    \n",
    "temp = full_table.copy()\n",
    "temp['Region'] = temp.apply(from_china_or_not, axis=1)\n",
    "temp = temp.groupby(['Region', 'Date'])['Confirmed', 'Deaths', 'Recovered']\n",
    "temp = temp.sum().diff().reset_index()\n",
    "mask = temp['Region'] != temp['Region'].shift(1)\n",
    "temp.loc[mask, 'Confirmed'] = np.nan\n",
    "temp.loc[mask, 'Deaths'] = np.nan\n",
    "temp.loc[mask, 'Recovered'] = np.nan\n",
    "\n",
    "fig = px.bar(temp, x='Date', y='Confirmed', color='Region', barmode='group', \n",
    "             text='Confirmed', title='Confirmed', color_discrete_sequence= [cnf, dth, rec])\n",
    "fig.update_traces(textposition='outside')\n",
    "fig.show()\n",
    "\n",
    "fig = px.bar(temp, x='Date', y='Deaths', color='Region', barmode='group', \n",
    "             text='Confirmed', title='Deaths', color_discrete_sequence= [cnf, dth, rec])\n",
    "fig.update_traces(textposition='outside')\n",
    "fig.update_traces(textangle=-90)\n",
    "fig.show()"
   ]
  },
  {
   "cell_type": "code",
   "execution_count": 0,
   "metadata": {
    "_kg_hide-input": true,
    "colab": {},
    "colab_type": "code",
    "id": "MUnYXFQCsF4R"
   },
   "outputs": [],
   "source": [
    "# fig = px.bar(temp[temp['Country/Region']!='China'], x=\"Date\", y=\"Confirmed\", color='Country/Region',\n",
    "#              title='Number of new cases outside China everyday')\n",
    "# fig.show()\n",
    "\n",
    "# fig = px.bar(temp, x=\"Date\", y=\"Deaths\", color='Country/Region',\n",
    "#              title='Number of new death case reported outside China everyday')\n",
    "# fig.show()\n",
    "\n",
    "# fig = px.bar(temp[temp['Country/Region']!='China'], x=\"Date\", y=\"Deaths\", color='Country/Region',\n",
    "#              title='Number of new death case reported outside China everyday')\n",
    "# fig.show()"
   ]
  },
  {
   "cell_type": "code",
   "execution_count": 0,
   "metadata": {
    "_kg_hide-input": true,
    "colab": {},
    "colab_type": "code",
    "id": "josiTFyesF4c"
   },
   "outputs": [],
   "source": [
    "gdf = full_table.groupby(['Date', 'Country/Region'])['Confirmed', 'Deaths', 'Recovered'].max()\n",
    "gdf = gdf.reset_index()\n",
    "\n",
    "temp = gdf[gdf['Country/Region']=='China'].reset_index()\n",
    "temp = temp.melt(id_vars='Date', value_vars=['Confirmed', 'Deaths', 'Recovered'],\n",
    "                var_name='Case', value_name='Count')\n",
    "fig = px.bar(temp, x=\"Date\", y=\"Count\", color='Case', facet_col=\"Case\",\n",
    "            title='China', color_discrete_sequence=[cnf, dth, rec])\n",
    "fig.show()\n",
    "\n",
    "temp = gdf[gdf['Country/Region']!='China'].groupby('Date').sum().reset_index()\n",
    "temp = temp.melt(id_vars='Date', value_vars=['Confirmed', 'Deaths', 'Recovered'],\n",
    "                var_name='Case', value_name='Count')\n",
    "fig = px.bar(temp, x=\"Date\", y=\"Count\", color='Case', facet_col=\"Case\",\n",
    "             title='ROW', color_discrete_sequence=[cnf, dth, rec])\n",
    "fig.show()"
   ]
  },
  {
   "cell_type": "markdown",
   "metadata": {
    "colab_type": "text",
    "id": "OhxENDWcsF4g"
   },
   "source": [
    "# Hubei - China - World"
   ]
  },
  {
   "cell_type": "code",
   "execution_count": 0,
   "metadata": {
    "_kg_hide-input": true,
    "colab": {},
    "colab_type": "code",
    "id": "PVldnCnQsF4i"
   },
   "outputs": [],
   "source": [
    "def location(row):\n",
    "    if row['Country/Region']=='China':\n",
    "        if row['Province/State']=='Hubei':\n",
    "            return 'Hubei'\n",
    "        else:\n",
    "            return 'Other Chinese Provinces'\n",
    "    else:\n",
    "        return 'Rest of the World'\n",
    "\n",
    "temp = full_table.copy()\n",
    "temp['Region'] = temp.apply(location, axis=1)\n",
    "temp['Date'] = temp['Date'].dt.strftime('%Y-%m-%d')\n",
    "temp = temp.groupby(['Region', 'Date'])['Confirmed', 'Deaths', 'Recovered'].sum().reset_index()\n",
    "temp = temp.melt(id_vars=['Region', 'Date'], value_vars=['Confirmed', 'Deaths', 'Recovered'], \n",
    "                 var_name='Case', value_name='Count').sort_values('Count')\n",
    "# temp = temp.sort_values(['Date', 'Region', 'Case']).reset_index()\n",
    "temp.head()\n",
    "\n",
    "fig = px.bar(temp, y='Region', x='Count', color='Case', barmode='group', orientation='h',\n",
    "             text='Count', title='Hubei - China - World', animation_frame='Date',\n",
    "             color_discrete_sequence= [dth, rec, cnf], range_x=[0, 70000])\n",
    "fig.update_traces(textposition='outside')\n",
    "# fig.update_layout(uniformtext_minsize=8, uniformtext_mode='hide')\n",
    "# fig.update_layout(yaxis={'categoryorder':'array', \n",
    "#                          'categoryarray':['Hubei','Other Chinese Provinces','Rest of the World']})\n",
    "fig.show()\n",
    "\n",
    "temp = full_latest.copy()\n",
    "temp['Region'] = temp.apply(location, axis=1)\n",
    "temp = temp.groupby('Region')['Confirmed', 'Deaths', 'Recovered'].sum().reset_index()\n",
    "temp = temp.melt(id_vars='Region', value_vars=['Confirmed', 'Deaths', 'Recovered'], \n",
    "                 var_name='Case', value_name='Count').sort_values('Count')\n",
    "temp.head()\n",
    "\n",
    "fig = px.bar(temp, y='Region', x='Count', color='Case', barmode='group', orientation='h',\n",
    "             text='Count', title='Hubei - China - World', \n",
    "             color_discrete_sequence= [dth, rec, cnf])\n",
    "fig.update_traces(textposition='outside')\n",
    "fig.update_layout(uniformtext_minsize=8, uniformtext_mode='hide')\n",
    "fig.show()"
   ]
  },
  {
   "cell_type": "markdown",
   "metadata": {
    "colab_type": "text",
    "id": "AbBzBRL6sF4n"
   },
   "source": [
    "# Proportion of Cases"
   ]
  },
  {
   "cell_type": "code",
   "execution_count": 0,
   "metadata": {
    "_kg_hide-input": true,
    "colab": {},
    "colab_type": "code",
    "id": "N7jOHtRtsF4p"
   },
   "outputs": [],
   "source": [
    "rl = row_latest.groupby('Country/Region')['Confirmed', 'Deaths', 'Recovered'].sum()\n",
    "rl = rl.reset_index().sort_values(by='Confirmed', ascending=False).reset_index(drop=True)\n",
    "rl.head().style.background_gradient(cmap='rainbow')\n",
    "\n",
    "ncl = rl.copy()\n",
    "ncl['Affected'] = ncl['Confirmed'] - ncl['Deaths'] - ncl['Recovered']\n",
    "ncl = ncl.melt(id_vars=\"Country/Region\", value_vars=['Affected', 'Recovered', 'Deaths'])\n",
    "\n",
    "fig = px.bar(ncl.sort_values(['variable', 'value']), \n",
    "             x=\"Country/Region\", y=\"value\", color='variable', orientation='v', height=800,\n",
    "             title='Number of Cases outside China', color_discrete_sequence=[act, dth, rec])\n",
    "fig.update_layout(uniformtext_minsize=8, uniformtext_mode='hide')\n",
    "fig.show()\n",
    "\n",
    "# ------------------------------------------\n",
    "\n",
    "cl = china_latest.groupby('Province/State')['Confirmed', 'Deaths', 'Recovered'].sum()\n",
    "cl = cl.reset_index().sort_values(by='Confirmed', ascending=False).reset_index(drop=True)\n",
    "# cl.head().style.background_gradient(cmap='rainbow')\n",
    "\n",
    "ncl = cl.copy()\n",
    "ncl['Affected'] = ncl['Confirmed'] - ncl['Deaths'] - ncl['Recovered']\n",
    "ncl = ncl.melt(id_vars=\"Province/State\", value_vars=['Affected', 'Recovered', 'Deaths'])\n",
    "\n",
    "fig = px.bar(ncl.sort_values(['variable', 'value']), \n",
    "             y=\"Province/State\", x=\"value\", color='variable', orientation='h', height=800,\n",
    "             title='Number of Cases in China', color_discrete_sequence=[act, dth, rec])\n",
    "fig.update_layout(uniformtext_minsize=8, uniformtext_mode='hide')\n",
    "fig.show()"
   ]
  },
  {
   "cell_type": "code",
   "execution_count": 0,
   "metadata": {
    "_kg_hide-input": true,
    "colab": {},
    "colab_type": "code",
    "id": "LMAW8kqAsF4t"
   },
   "outputs": [],
   "source": [
    "# fig = px.treemap(china_latest.sort_values(by='Confirmed', ascending=False).reset_index(drop=True), \n",
    "#                  path=[\"Province/State\"], values=\"Confirmed\",\n",
    "#                  title='Number of Confirmed Cases in Chinese Provinces',\n",
    "#                  color_discrete_sequence = px.colors.qualitative.Prism)\n",
    "# fig.show()\n",
    "\n",
    "# fig = px.treemap(china_latest.sort_values(by='Deaths', ascending=False).reset_index(drop=True), \n",
    "#                  path=[\"Province/State\"], values=\"Deaths\", \n",
    "#                  title='Number of Deaths Reported in Chinese Provinces',\n",
    "#                  color_discrete_sequence = px.colors.qualitative.Prism)\n",
    "# fig.show()\n",
    "\n",
    "# fig = px.treemap(china_latest.sort_values(by='Recovered', ascending=False).reset_index(drop=True), \n",
    "#                  path=[\"Province/State\"], values=\"Recovered\", \n",
    "#                  title='Number of Recovered Cases in Chinese Provinces',\n",
    "#                  color_discrete_sequence = px.colors.qualitative.Prism)\n",
    "# fig.show()\n",
    "\n",
    "# # ----------------------------------------------------------------------------\n",
    "\n",
    "# fig = px.treemap(row_latest, path=[\"Country/Region\"], values=\"Confirmed\", \n",
    "#                  title='Number of Confirmed Cases outside china',\n",
    "#                  color_discrete_sequence = px.colors.qualitative.Pastel)\n",
    "# fig.show()\n",
    "\n",
    "# fig = px.treemap(row_latest, path=[\"Country/Region\"], values=\"Deaths\", \n",
    "#                  title='Number of Deaths outside china',\n",
    "#                  color_discrete_sequence = px.colors.qualitative.Pastel)\n",
    "# fig.show()\n",
    "\n",
    "# fig = px.treemap(row_latest, path=[\"Country/Region\"], values=\"Recovered\", \n",
    "#                  title='Number of Recovered Cases outside china',\n",
    "#                  color_discrete_sequence = px.colors.qualitative.Pastel)\n",
    "# fig.show()"
   ]
  },
  {
   "cell_type": "markdown",
   "metadata": {
    "colab_type": "text",
    "id": "a1GVzwVdsF4y"
   },
   "source": [
    "# Country Wise"
   ]
  },
  {
   "cell_type": "markdown",
   "metadata": {
    "colab_type": "text",
    "id": "TEOIaNSPsF43"
   },
   "source": [
    "### Confirmed cases"
   ]
  },
  {
   "cell_type": "code",
   "execution_count": 0,
   "metadata": {
    "_kg_hide-input": true,
    "colab": {},
    "colab_type": "code",
    "id": "dxTOZPMrsF44"
   },
   "outputs": [],
   "source": [
    "temp = full_table.groupby(['Date', 'Country/Region'])['Confirmed'].sum()\n",
    "temp = temp.reset_index().sort_values(by=['Date', 'Country/Region'])\n",
    "\n",
    "plt.style.use('seaborn')\n",
    "g = sns.FacetGrid(temp, col=\"Country/Region\", hue=\"Country/Region\", \n",
    "                  sharey=False, col_wrap=5)\n",
    "g = g.map(plt.plot, \"Date\", \"Confirmed\")\n",
    "g.set_xticklabels(rotation=90)\n",
    "plt.show()"
   ]
  },
  {
   "cell_type": "markdown",
   "metadata": {
    "colab_type": "text",
    "id": "aHti22fusF49"
   },
   "source": [
    "### New cases"
   ]
  },
  {
   "cell_type": "code",
   "execution_count": 0,
   "metadata": {
    "_kg_hide-input": true,
    "colab": {},
    "colab_type": "code",
    "id": "5T5sfiTvsF4_"
   },
   "outputs": [],
   "source": [
    "temp = full_table.groupby(['Country/Region', 'Date', ])['Confirmed', 'Deaths', 'Recovered']\n",
    "temp = temp.sum().diff().reset_index()\n",
    "\n",
    "mask = temp['Country/Region'] != temp['Country/Region'].shift(1)\n",
    "\n",
    "temp.loc[mask, 'Confirmed'] = np.nan\n",
    "temp.loc[mask, 'Deaths'] = np.nan\n",
    "temp.loc[mask, 'Recovered'] = np.nan\n",
    "\n",
    "plt.style.use('seaborn')\n",
    "g = sns.FacetGrid(temp, col=\"Country/Region\", hue=\"Country/Region\", \n",
    "                  sharey=False, col_wrap=5)\n",
    "g = g.map(sns.lineplot, \"Date\", \"Confirmed\")\n",
    "g.set_xticklabels(rotation=90)\n",
    "plt.show()"
   ]
  },
  {
   "cell_type": "markdown",
   "metadata": {
    "colab_type": "text",
    "id": "p2bq0QZpsF5D"
   },
   "source": [
    "# Calander map"
   ]
  },
  {
   "cell_type": "markdown",
   "metadata": {
    "colab_type": "text",
    "id": "fZ9slL-isF5E"
   },
   "source": [
    "### Number of new cases every day"
   ]
  },
  {
   "cell_type": "code",
   "execution_count": 0,
   "metadata": {
    "_kg_hide-input": true,
    "colab": {},
    "colab_type": "code",
    "id": "kzZ-o0VFsF5F"
   },
   "outputs": [],
   "source": [
    "temp = full_table.groupby('Date')['Confirmed'].sum()\n",
    "temp = temp.diff()\n",
    "\n",
    "plt.figure(figsize=(20, 5))\n",
    "ax = calmap.yearplot(temp, fillcolor='white', cmap='Reds', linewidth=0.5)"
   ]
  },
  {
   "cell_type": "markdown",
   "metadata": {
    "colab_type": "text",
    "id": "Mk2_l2IBsF5J"
   },
   "source": [
    "### Number of new countries every day"
   ]
  },
  {
   "cell_type": "code",
   "execution_count": 0,
   "metadata": {
    "_kg_hide-input": true,
    "colab": {},
    "colab_type": "code",
    "id": "-a5qQ-LasF5K"
   },
   "outputs": [],
   "source": [
    "spread = full_table[full_table['Confirmed']!=0].groupby('Date')\n",
    "spread = spread['Country/Region'].unique().apply(len).diff()\n",
    "\n",
    "plt.figure(figsize=(20, 5))\n",
    "ax = calmap.yearplot(spread, fillcolor='white', cmap='Greens', linewidth=0.5)"
   ]
  },
  {
   "cell_type": "markdown",
   "metadata": {
    "colab_type": "text",
    "id": "twgToAI2sF5N"
   },
   "source": [
    "# Comparison with other epidemics"
   ]
  },
  {
   "cell_type": "markdown",
   "metadata": {
    "colab_type": "text",
    "id": "Oo_1w3w6sF5O"
   },
   "source": [
    "https://www.kaggle.com/imdevskp/covid19-vs-sars-vs-mers-vs-ebola-vs-h1n1\n",
    "\n"
   ]
  },
  {
   "cell_type": "code",
   "execution_count": 0,
   "metadata": {
    "_kg_hide-input": true,
    "colab": {},
    "colab_type": "code",
    "id": "1Wl3XCXMsF5P"
   },
   "outputs": [],
   "source": [
    "epidemics = pd.DataFrame({\n",
    "    'epidemic' : ['COVID-19', 'SARS', 'EBOLA', 'MERS', 'H1N1'],\n",
    "    'start_year' : [2019, 2003, 2014, 2012, 2009],\n",
    "    'end_year' : [2020, 2004, 2016, 2017, 2010],\n",
    "    'confirmed' : [full_latest['Confirmed'].sum(), 8096, 28646, 2494, 6724149],\n",
    "    'deaths' : [full_latest['Deaths'].sum(), 774, 11323, 858, 19654]\n",
    "})\n",
    "\n",
    "epidemics['mortality'] = round((epidemics['deaths']/epidemics['confirmed'])*100, 2)\n",
    "\n",
    "epidemics.head()"
   ]
  },
  {
   "cell_type": "code",
   "execution_count": 0,
   "metadata": {
    "_kg_hide-input": true,
    "colab": {},
    "colab_type": "code",
    "id": "xg4Qz-vUsF5S"
   },
   "outputs": [],
   "source": [
    "temp = epidemics.melt(id_vars='epidemic', value_vars=['confirmed', 'deaths', 'mortality'],\n",
    "                      var_name='Case', value_name='Value')\n",
    "\n",
    "fig = px.bar(temp, x=\"epidemic\", y=\"Value\", color='epidemic', text='Value', facet_col=\"Case\",\n",
    "             color_discrete_sequence = px.colors.qualitative.Bold)\n",
    "fig.update_traces(textposition='outside')\n",
    "fig.update_layout(uniformtext_minsize=8, uniformtext_mode='hide')\n",
    "fig.update_yaxes(showticklabels=False)\n",
    "fig.layout.yaxis2.update(matches=None)\n",
    "fig.layout.yaxis3.update(matches=None)\n",
    "fig.show()"
   ]
  },
  {
   "cell_type": "markdown",
   "metadata": {
    "colab_type": "text",
    "id": "ZE42ZWOusF5W"
   },
   "source": [
    "# Analysis on other epidemics"
   ]
  },
  {
   "cell_type": "markdown",
   "metadata": {
    "colab_type": "text",
    "id": "uFYxDximsF5W"
   },
   "source": [
    "https://www.kaggle.com/imdevskp/mers-outbreak-analysis  \n",
    "https://www.kaggle.com/imdevskp/sars-2003-outbreak-analysis  \n",
    "https://www.kaggle.com/imdevskp/western-africa-ebola-outbreak-analysis\n"
   ]
  }
 ],
 "metadata": {
  "colab": {
   "collapsed_sections": [
    "8Cauilp7sFyF",
    "9xauePQ0sFyu",
    "KGgdrhvfsFzX",
    "Flol2fV0sFzj",
    "tOY_fKThsFzr",
    "fgCJijf3sFzs",
    "zrcmM-9MsFzz",
    "PjsOMFBisF0C",
    "2lVNwELdsF0L",
    "f2HZ1nOnsF0S",
    "G6-FmSOQsF0c",
    "vBzCHR6IsF0k",
    "geQF5pLHsF0u",
    "GMN-9NHJsF0z",
    "SoPLjy_0sF01",
    "2p3brhNDsF1A",
    "BaSDe-ldsF1F",
    "pZp0bzTcsF1O",
    "fScYuVENsF1X",
    "a5QaSnR3sF1e",
    "-UjYrGrxsF1f",
    "tljVp8qjsF1_",
    "my4e5Gx3sF2B",
    "a2LT6QtxsF2L",
    "lrkSZfH8sF2Q",
    "82VfvprysF2d",
    "GkgODO-usF2u",
    "sN0scYQ1sF3a",
    "oJWVjaJfsF31",
    "qmsN_hMOsF36",
    "wWEN6N0CsF4A",
    "OhxENDWcsF4g",
    "AbBzBRL6sF4n",
    "a1GVzwVdsF4y",
    "TEOIaNSPsF43",
    "aHti22fusF49",
    "p2bq0QZpsF5D",
    "fZ9slL-isF5E",
    "Mk2_l2IBsF5J",
    "twgToAI2sF5N",
    "ZE42ZWOusF5W"
   ],
   "name": "COVID-19AnalysisVizPredictionComparisons.ipynb",
   "provenance": []
  },
  "kernelspec": {
   "display_name": "Python 3",
   "language": "python",
   "name": "python3"
  },
  "language_info": {
   "codemirror_mode": {
    "name": "ipython",
    "version": 3
   },
   "file_extension": ".py",
   "mimetype": "text/x-python",
   "name": "python",
   "nbconvert_exporter": "python",
   "pygments_lexer": "ipython3",
   "version": "3.7.4"
  }
 },
 "nbformat": 4,
 "nbformat_minor": 1
}
